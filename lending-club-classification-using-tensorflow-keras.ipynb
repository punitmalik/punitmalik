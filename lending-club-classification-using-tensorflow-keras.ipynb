{
 "cells": [
  {
   "cell_type": "markdown",
   "id": "e6498eb8",
   "metadata": {
    "papermill": {
     "duration": 0.051867,
     "end_time": "2024-05-18T08:10:17.215723",
     "exception": false,
     "start_time": "2024-05-18T08:10:17.163856",
     "status": "completed"
    },
    "tags": []
   },
   "source": [
    "# Keras API Project Exercise\n",
    "\n",
    "## The Data\n",
    "\n",
    "We will be using a subset of the LendingClub DataSet obtained from Kaggle: https://www.kaggle.com/wordsforthewise/lending-club\n",
    "\n",
    "LendingClub is a US peer-to-peer lending company, headquartered in San Francisco, California.[3] It was the first peer-to-peer lender to register its offerings as securities with the Securities and Exchange Commission (SEC), and to offer loan trading on a secondary market. LendingClub is the world's largest peer-to-peer lending platform.\n",
    "\n",
    "### Our Goal\n",
    "\n",
    "Given historical data on loans given out with information on whether or not the borrower defaulted (charge-off), can we build a model thatcan predict wether or nor a borrower will pay back their loan? This way in the future when we get a new potential customer we can assess whether or not they are likely to pay back the loan. Keep in mind classification metrics when evaluating the performance of your model!\n",
    "\n",
    "The \"loan_status\" column contains our label.\n",
    "\n",
    "### Data Overview"
   ]
  },
  {
   "cell_type": "markdown",
   "id": "6700aa73",
   "metadata": {
    "papermill": {
     "duration": 0.048889,
     "end_time": "2024-05-18T08:10:17.314397",
     "exception": false,
     "start_time": "2024-05-18T08:10:17.265508",
     "status": "completed"
    },
    "tags": []
   },
   "source": [
    "----\n",
    "-----\n",
    "There are many LendingClub data sets on Kaggle. Here is the information on this particular data set:\n",
    "\n",
    "<table border=\"1\" class=\"dataframe\">\n",
    "  <thead>\n",
    "    <tr style=\"text-align: right;\">\n",
    "      <th></th>\n",
    "      <th>LoanStatNew</th>\n",
    "      <th>Description</th>\n",
    "    </tr>\n",
    "  </thead>\n",
    "  <tbody>\n",
    "    <tr>\n",
    "      <th>0</th>\n",
    "      <td>loan_amnt</td>\n",
    "      <td>The listed amount of the loan applied for by the borrower. If at some point in time, the credit department reduces the loan amount, then it will be reflected in this value.</td>\n",
    "    </tr>\n",
    "    <tr>\n",
    "      <th>1</th>\n",
    "      <td>term</td>\n",
    "      <td>The number of payments on the loan. Values are in months and can be either 36 or 60.</td>\n",
    "    </tr>\n",
    "    <tr>\n",
    "      <th>2</th>\n",
    "      <td>int_rate</td>\n",
    "      <td>Interest Rate on the loan</td>\n",
    "    </tr>\n",
    "    <tr>\n",
    "      <th>3</th>\n",
    "      <td>installment</td>\n",
    "      <td>The monthly payment owed by the borrower if the loan originates.</td>\n",
    "    </tr>\n",
    "    <tr>\n",
    "      <th>4</th>\n",
    "      <td>grade</td>\n",
    "      <td>LC assigned loan grade</td>\n",
    "    </tr>\n",
    "    <tr>\n",
    "      <th>5</th>\n",
    "      <td>sub_grade</td>\n",
    "      <td>LC assigned loan subgrade</td>\n",
    "    </tr>\n",
    "    <tr>\n",
    "      <th>6</th>\n",
    "      <td>emp_title</td>\n",
    "      <td>The job title supplied by the Borrower when applying for the loan.*</td>\n",
    "    </tr>\n",
    "    <tr>\n",
    "      <th>7</th>\n",
    "      <td>emp_length</td>\n",
    "      <td>Employment length in years. Possible values are between 0 and 10 where 0 means less than one year and 10 means ten or more years.</td>\n",
    "    </tr>\n",
    "    <tr>\n",
    "      <th>8</th>\n",
    "      <td>home_ownership</td>\n",
    "      <td>The home ownership status provided by the borrower during registration or obtained from the credit report. Our values are: RENT, OWN, MORTGAGE, OTHER</td>\n",
    "    </tr>\n",
    "    <tr>\n",
    "      <th>9</th>\n",
    "      <td>annual_inc</td>\n",
    "      <td>The self-reported annual income provided by the borrower during registration.</td>\n",
    "    </tr>\n",
    "    <tr>\n",
    "      <th>10</th>\n",
    "      <td>verification_status</td>\n",
    "      <td>Indicates if income was verified by LC, not verified, or if the income source was verified</td>\n",
    "    </tr>\n",
    "    <tr>\n",
    "      <th>11</th>\n",
    "      <td>issue_d</td>\n",
    "      <td>The month which the loan was funded</td>\n",
    "    </tr>\n",
    "    <tr>\n",
    "      <th>12</th>\n",
    "      <td>loan_status</td>\n",
    "      <td>Current status of the loan</td>\n",
    "    </tr>\n",
    "    <tr>\n",
    "      <th>13</th>\n",
    "      <td>purpose</td>\n",
    "      <td>A category provided by the borrower for the loan request.</td>\n",
    "    </tr>\n",
    "    <tr>\n",
    "      <th>14</th>\n",
    "      <td>title</td>\n",
    "      <td>The loan title provided by the borrower</td>\n",
    "    </tr>\n",
    "    <tr>\n",
    "      <th>15</th>\n",
    "      <td>zip_code</td>\n",
    "      <td>The first 3 numbers of the zip code provided by the borrower in the loan application.</td>\n",
    "    </tr>\n",
    "    <tr>\n",
    "      <th>16</th>\n",
    "      <td>addr_state</td>\n",
    "      <td>The state provided by the borrower in the loan application</td>\n",
    "    </tr>\n",
    "    <tr>\n",
    "      <th>17</th>\n",
    "      <td>dti</td>\n",
    "      <td>A ratio calculated using the borrower’s total monthly debt payments on the total debt obligations, excluding mortgage and the requested LC loan, divided by the borrower’s self-reported monthly income.</td>\n",
    "    </tr>\n",
    "    <tr>\n",
    "      <th>18</th>\n",
    "      <td>earliest_cr_line</td>\n",
    "      <td>The month the borrower's earliest reported credit line was opened</td>\n",
    "    </tr>\n",
    "    <tr>\n",
    "      <th>19</th>\n",
    "      <td>open_acc</td>\n",
    "      <td>The number of open credit lines in the borrower's credit file.</td>\n",
    "    </tr>\n",
    "    <tr>\n",
    "      <th>20</th>\n",
    "      <td>pub_rec</td>\n",
    "      <td>Number of derogatory public records</td>\n",
    "    </tr>\n",
    "    <tr>\n",
    "      <th>21</th>\n",
    "      <td>revol_bal</td>\n",
    "      <td>Total credit revolving balance</td>\n",
    "    </tr>\n",
    "    <tr>\n",
    "      <th>22</th>\n",
    "      <td>revol_util</td>\n",
    "      <td>Revolving line utilization rate, or the amount of credit the borrower is using relative to all available revolving credit.</td>\n",
    "    </tr>\n",
    "    <tr>\n",
    "      <th>23</th>\n",
    "      <td>total_acc</td>\n",
    "      <td>The total number of credit lines currently in the borrower's credit file</td>\n",
    "    </tr>\n",
    "    <tr>\n",
    "      <th>24</th>\n",
    "      <td>initial_list_status</td>\n",
    "      <td>The initial listing status of the loan. Possible values are – W, F</td>\n",
    "    </tr>\n",
    "    <tr>\n",
    "      <th>25</th>\n",
    "      <td>application_type</td>\n",
    "      <td>Indicates whether the loan is an individual application or a joint application with two co-borrowers</td>\n",
    "    </tr>\n",
    "    <tr>\n",
    "      <th>26</th>\n",
    "      <td>mort_acc</td>\n",
    "      <td>Number of mortgage accounts.</td>\n",
    "    </tr>\n",
    "    <tr>\n",
    "      <th>27</th>\n",
    "      <td>pub_rec_bankruptcies</td>\n",
    "      <td>Number of public record bankruptcies</td>\n",
    "    </tr>\n",
    "  </tbody>\n",
    "</table>\n",
    "\n",
    "---\n",
    "----"
   ]
  },
  {
   "cell_type": "markdown",
   "id": "68dca953",
   "metadata": {
    "papermill": {
     "duration": 0.049612,
     "end_time": "2024-05-18T08:10:17.413562",
     "exception": false,
     "start_time": "2024-05-18T08:10:17.363950",
     "status": "completed"
    },
    "tags": []
   },
   "source": [
    "## Starter Code\n",
    "\n",
    "#### Note: We also provide feature information on the data as a .csv file for easy lookup throughout the notebook:"
   ]
  },
  {
   "cell_type": "code",
   "execution_count": 1,
   "id": "a464d386",
   "metadata": {
    "execution": {
     "iopub.execute_input": "2024-05-18T08:10:17.516128Z",
     "iopub.status.busy": "2024-05-18T08:10:17.515282Z",
     "iopub.status.idle": "2024-05-18T08:10:18.405678Z",
     "shell.execute_reply": "2024-05-18T08:10:18.404490Z"
    },
    "papermill": {
     "duration": 0.944586,
     "end_time": "2024-05-18T08:10:18.408773",
     "exception": false,
     "start_time": "2024-05-18T08:10:17.464187",
     "status": "completed"
    },
    "tags": []
   },
   "outputs": [],
   "source": [
    "import pandas as pd"
   ]
  },
  {
   "cell_type": "code",
   "execution_count": 2,
   "id": "f57b89a4",
   "metadata": {
    "execution": {
     "iopub.execute_input": "2024-05-18T08:10:18.514057Z",
     "iopub.status.busy": "2024-05-18T08:10:18.513500Z",
     "iopub.status.idle": "2024-05-18T08:10:18.550317Z",
     "shell.execute_reply": "2024-05-18T08:10:18.549046Z"
    },
    "papermill": {
     "duration": 0.094055,
     "end_time": "2024-05-18T08:10:18.553275",
     "exception": false,
     "start_time": "2024-05-18T08:10:18.459220",
     "status": "completed"
    },
    "tags": []
   },
   "outputs": [],
   "source": [
    "data_info = pd.read_csv('../input/lendingdata/lending_club_info.csv',index_col='LoanStatNew')"
   ]
  },
  {
   "cell_type": "code",
   "execution_count": 3,
   "id": "9170017b",
   "metadata": {
    "execution": {
     "iopub.execute_input": "2024-05-18T08:10:18.722951Z",
     "iopub.status.busy": "2024-05-18T08:10:18.722428Z",
     "iopub.status.idle": "2024-05-18T08:10:18.740762Z",
     "shell.execute_reply": "2024-05-18T08:10:18.739910Z"
    },
    "papermill": {
     "duration": 0.071801,
     "end_time": "2024-05-18T08:10:18.743141",
     "exception": false,
     "start_time": "2024-05-18T08:10:18.671340",
     "status": "completed"
    },
    "tags": []
   },
   "outputs": [
    {
     "data": {
      "text/html": [
       "<div>\n",
       "<style scoped>\n",
       "    .dataframe tbody tr th:only-of-type {\n",
       "        vertical-align: middle;\n",
       "    }\n",
       "\n",
       "    .dataframe tbody tr th {\n",
       "        vertical-align: top;\n",
       "    }\n",
       "\n",
       "    .dataframe thead th {\n",
       "        text-align: right;\n",
       "    }\n",
       "</style>\n",
       "<table border=\"1\" class=\"dataframe\">\n",
       "  <thead>\n",
       "    <tr style=\"text-align: right;\">\n",
       "      <th></th>\n",
       "      <th>Description</th>\n",
       "    </tr>\n",
       "    <tr>\n",
       "      <th>LoanStatNew</th>\n",
       "      <th></th>\n",
       "    </tr>\n",
       "  </thead>\n",
       "  <tbody>\n",
       "    <tr>\n",
       "      <th>loan_amnt</th>\n",
       "      <td>The listed amount of the loan applied for by t...</td>\n",
       "    </tr>\n",
       "    <tr>\n",
       "      <th>term</th>\n",
       "      <td>The number of payments on the loan. Values are...</td>\n",
       "    </tr>\n",
       "    <tr>\n",
       "      <th>int_rate</th>\n",
       "      <td>Interest Rate on the loan</td>\n",
       "    </tr>\n",
       "    <tr>\n",
       "      <th>installment</th>\n",
       "      <td>The monthly payment owed by the borrower if th...</td>\n",
       "    </tr>\n",
       "    <tr>\n",
       "      <th>grade</th>\n",
       "      <td>LC assigned loan grade</td>\n",
       "    </tr>\n",
       "    <tr>\n",
       "      <th>sub_grade</th>\n",
       "      <td>LC assigned loan subgrade</td>\n",
       "    </tr>\n",
       "    <tr>\n",
       "      <th>emp_title</th>\n",
       "      <td>The job title supplied by the Borrower when ap...</td>\n",
       "    </tr>\n",
       "    <tr>\n",
       "      <th>emp_length</th>\n",
       "      <td>Employment length in years. Possible values ar...</td>\n",
       "    </tr>\n",
       "    <tr>\n",
       "      <th>home_ownership</th>\n",
       "      <td>The home ownership status provided by the borr...</td>\n",
       "    </tr>\n",
       "    <tr>\n",
       "      <th>annual_inc</th>\n",
       "      <td>The self-reported annual income provided by th...</td>\n",
       "    </tr>\n",
       "    <tr>\n",
       "      <th>verification_status</th>\n",
       "      <td>Indicates if income was verified by LC, not ve...</td>\n",
       "    </tr>\n",
       "    <tr>\n",
       "      <th>issue_d</th>\n",
       "      <td>The month which the loan was funded</td>\n",
       "    </tr>\n",
       "    <tr>\n",
       "      <th>loan_status</th>\n",
       "      <td>Current status of the loan</td>\n",
       "    </tr>\n",
       "    <tr>\n",
       "      <th>purpose</th>\n",
       "      <td>A category provided by the borrower for the lo...</td>\n",
       "    </tr>\n",
       "    <tr>\n",
       "      <th>title</th>\n",
       "      <td>The loan title provided by the borrower</td>\n",
       "    </tr>\n",
       "    <tr>\n",
       "      <th>zip_code</th>\n",
       "      <td>The first 3 numbers of the zip code provided b...</td>\n",
       "    </tr>\n",
       "    <tr>\n",
       "      <th>addr_state</th>\n",
       "      <td>The state provided by the borrower in the loan...</td>\n",
       "    </tr>\n",
       "    <tr>\n",
       "      <th>dti</th>\n",
       "      <td>A ratio calculated using the borrower’s total ...</td>\n",
       "    </tr>\n",
       "    <tr>\n",
       "      <th>earliest_cr_line</th>\n",
       "      <td>The month the borrower's earliest reported cre...</td>\n",
       "    </tr>\n",
       "    <tr>\n",
       "      <th>open_acc</th>\n",
       "      <td>The number of open credit lines in the borrowe...</td>\n",
       "    </tr>\n",
       "    <tr>\n",
       "      <th>pub_rec</th>\n",
       "      <td>Number of derogatory public records</td>\n",
       "    </tr>\n",
       "    <tr>\n",
       "      <th>revol_bal</th>\n",
       "      <td>Total credit revolving balance</td>\n",
       "    </tr>\n",
       "    <tr>\n",
       "      <th>revol_util</th>\n",
       "      <td>Revolving line utilization rate, or the amount...</td>\n",
       "    </tr>\n",
       "    <tr>\n",
       "      <th>total_acc</th>\n",
       "      <td>The total number of credit lines currently in ...</td>\n",
       "    </tr>\n",
       "    <tr>\n",
       "      <th>initial_list_status</th>\n",
       "      <td>The initial listing status of the loan. Possib...</td>\n",
       "    </tr>\n",
       "    <tr>\n",
       "      <th>application_type</th>\n",
       "      <td>Indicates whether the loan is an individual ap...</td>\n",
       "    </tr>\n",
       "    <tr>\n",
       "      <th>mort_acc</th>\n",
       "      <td>Number of mortgage accounts.</td>\n",
       "    </tr>\n",
       "    <tr>\n",
       "      <th>pub_rec_bankruptcies</th>\n",
       "      <td>Number of public record bankruptcies</td>\n",
       "    </tr>\n",
       "  </tbody>\n",
       "</table>\n",
       "</div>"
      ],
      "text/plain": [
       "                                                            Description\n",
       "LoanStatNew                                                            \n",
       "loan_amnt             The listed amount of the loan applied for by t...\n",
       "term                  The number of payments on the loan. Values are...\n",
       "int_rate                                      Interest Rate on the loan\n",
       "installment           The monthly payment owed by the borrower if th...\n",
       "grade                                            LC assigned loan grade\n",
       "sub_grade                                     LC assigned loan subgrade\n",
       "emp_title             The job title supplied by the Borrower when ap...\n",
       "emp_length            Employment length in years. Possible values ar...\n",
       "home_ownership        The home ownership status provided by the borr...\n",
       "annual_inc            The self-reported annual income provided by th...\n",
       "verification_status   Indicates if income was verified by LC, not ve...\n",
       "issue_d                             The month which the loan was funded\n",
       "loan_status                                  Current status of the loan\n",
       "purpose               A category provided by the borrower for the lo...\n",
       "title                           The loan title provided by the borrower\n",
       "zip_code              The first 3 numbers of the zip code provided b...\n",
       "addr_state            The state provided by the borrower in the loan...\n",
       "dti                   A ratio calculated using the borrower’s total ...\n",
       "earliest_cr_line      The month the borrower's earliest reported cre...\n",
       "open_acc              The number of open credit lines in the borrowe...\n",
       "pub_rec                             Number of derogatory public records\n",
       "revol_bal                                Total credit revolving balance\n",
       "revol_util            Revolving line utilization rate, or the amount...\n",
       "total_acc             The total number of credit lines currently in ...\n",
       "initial_list_status   The initial listing status of the loan. Possib...\n",
       "application_type      Indicates whether the loan is an individual ap...\n",
       "mort_acc                                   Number of mortgage accounts.\n",
       "pub_rec_bankruptcies               Number of public record bankruptcies"
      ]
     },
     "execution_count": 3,
     "metadata": {},
     "output_type": "execute_result"
    }
   ],
   "source": [
    "data_info"
   ]
  },
  {
   "cell_type": "code",
   "execution_count": 4,
   "id": "97af094c",
   "metadata": {
    "execution": {
     "iopub.execute_input": "2024-05-18T08:10:18.845634Z",
     "iopub.status.busy": "2024-05-18T08:10:18.845153Z",
     "iopub.status.idle": "2024-05-18T08:10:18.851544Z",
     "shell.execute_reply": "2024-05-18T08:10:18.850334Z"
    },
    "papermill": {
     "duration": 0.061082,
     "end_time": "2024-05-18T08:10:18.854368",
     "exception": false,
     "start_time": "2024-05-18T08:10:18.793286",
     "status": "completed"
    },
    "tags": []
   },
   "outputs": [
    {
     "name": "stdout",
     "output_type": "stream",
     "text": [
      "Revolving line utilization rate, or the amount of credit the borrower is using relative to all available revolving credit.\n"
     ]
    }
   ],
   "source": [
    "print(data_info.loc['revol_util']['Description'])"
   ]
  },
  {
   "cell_type": "code",
   "execution_count": 5,
   "id": "f794728a",
   "metadata": {
    "execution": {
     "iopub.execute_input": "2024-05-18T08:10:18.960462Z",
     "iopub.status.busy": "2024-05-18T08:10:18.960022Z",
     "iopub.status.idle": "2024-05-18T08:10:18.965769Z",
     "shell.execute_reply": "2024-05-18T08:10:18.964401Z"
    },
    "papermill": {
     "duration": 0.061551,
     "end_time": "2024-05-18T08:10:18.968186",
     "exception": false,
     "start_time": "2024-05-18T08:10:18.906635",
     "status": "completed"
    },
    "tags": []
   },
   "outputs": [],
   "source": [
    "def feat_info(col_name):\n",
    "    print(data_info.loc[col_name]['Description'])"
   ]
  },
  {
   "cell_type": "code",
   "execution_count": 6,
   "id": "8fc72cf9",
   "metadata": {
    "execution": {
     "iopub.execute_input": "2024-05-18T08:10:19.073441Z",
     "iopub.status.busy": "2024-05-18T08:10:19.073046Z",
     "iopub.status.idle": "2024-05-18T08:10:19.079379Z",
     "shell.execute_reply": "2024-05-18T08:10:19.077949Z"
    },
    "papermill": {
     "duration": 0.0623,
     "end_time": "2024-05-18T08:10:19.081995",
     "exception": false,
     "start_time": "2024-05-18T08:10:19.019695",
     "status": "completed"
    },
    "tags": []
   },
   "outputs": [
    {
     "name": "stdout",
     "output_type": "stream",
     "text": [
      "Number of mortgage accounts.\n"
     ]
    }
   ],
   "source": [
    "feat_info('mort_acc')"
   ]
  },
  {
   "cell_type": "markdown",
   "id": "49be2c3d",
   "metadata": {
    "papermill": {
     "duration": 0.053781,
     "end_time": "2024-05-18T08:10:19.189371",
     "exception": false,
     "start_time": "2024-05-18T08:10:19.135590",
     "status": "completed"
    },
    "tags": []
   },
   "source": [
    "## Loading the data and other imports"
   ]
  },
  {
   "cell_type": "code",
   "execution_count": 7,
   "id": "336d4e11",
   "metadata": {
    "execution": {
     "iopub.execute_input": "2024-05-18T08:10:19.295071Z",
     "iopub.status.busy": "2024-05-18T08:10:19.294655Z",
     "iopub.status.idle": "2024-05-18T08:10:20.626505Z",
     "shell.execute_reply": "2024-05-18T08:10:20.625346Z"
    },
    "papermill": {
     "duration": 1.388184,
     "end_time": "2024-05-18T08:10:20.629408",
     "exception": false,
     "start_time": "2024-05-18T08:10:19.241224",
     "status": "completed"
    },
    "tags": []
   },
   "outputs": [],
   "source": [
    "import pandas as pd\n",
    "import numpy as np\n",
    "import matplotlib.pyplot as plt\n",
    "import seaborn as sns\n",
    "\n",
    "# might be needed depending on your version of Jupyter\n",
    "%matplotlib inline"
   ]
  },
  {
   "cell_type": "code",
   "execution_count": 8,
   "id": "2d505d06",
   "metadata": {
    "execution": {
     "iopub.execute_input": "2024-05-18T08:10:20.732026Z",
     "iopub.status.busy": "2024-05-18T08:10:20.731619Z",
     "iopub.status.idle": "2024-05-18T08:10:25.061560Z",
     "shell.execute_reply": "2024-05-18T08:10:25.060220Z"
    },
    "papermill": {
     "duration": 4.384764,
     "end_time": "2024-05-18T08:10:25.064594",
     "exception": false,
     "start_time": "2024-05-18T08:10:20.679830",
     "status": "completed"
    },
    "tags": []
   },
   "outputs": [],
   "source": [
    "df = pd.read_csv('../input/lendingdata/lending_club_loan_two.csv')"
   ]
  },
  {
   "cell_type": "code",
   "execution_count": 9,
   "id": "9c8267a9",
   "metadata": {
    "execution": {
     "iopub.execute_input": "2024-05-18T08:10:25.167381Z",
     "iopub.status.busy": "2024-05-18T08:10:25.166889Z",
     "iopub.status.idle": "2024-05-18T08:10:25.837504Z",
     "shell.execute_reply": "2024-05-18T08:10:25.835835Z"
    },
    "papermill": {
     "duration": 0.725623,
     "end_time": "2024-05-18T08:10:25.840700",
     "exception": false,
     "start_time": "2024-05-18T08:10:25.115077",
     "status": "completed"
    },
    "tags": []
   },
   "outputs": [
    {
     "name": "stdout",
     "output_type": "stream",
     "text": [
      "<class 'pandas.core.frame.DataFrame'>\n",
      "RangeIndex: 396030 entries, 0 to 396029\n",
      "Data columns (total 27 columns):\n",
      " #   Column                Non-Null Count   Dtype  \n",
      "---  ------                --------------   -----  \n",
      " 0   loan_amnt             396030 non-null  float64\n",
      " 1   term                  396030 non-null  object \n",
      " 2   int_rate              396030 non-null  float64\n",
      " 3   installment           396030 non-null  float64\n",
      " 4   grade                 396030 non-null  object \n",
      " 5   sub_grade             396030 non-null  object \n",
      " 6   emp_title             373103 non-null  object \n",
      " 7   emp_length            377729 non-null  object \n",
      " 8   home_ownership        396030 non-null  object \n",
      " 9   annual_inc            396030 non-null  float64\n",
      " 10  verification_status   396030 non-null  object \n",
      " 11  issue_d               396030 non-null  object \n",
      " 12  loan_status           396030 non-null  object \n",
      " 13  purpose               396030 non-null  object \n",
      " 14  title                 394274 non-null  object \n",
      " 15  dti                   396030 non-null  float64\n",
      " 16  earliest_cr_line      396030 non-null  object \n",
      " 17  open_acc              396030 non-null  float64\n",
      " 18  pub_rec               396030 non-null  float64\n",
      " 19  revol_bal             396030 non-null  float64\n",
      " 20  revol_util            395754 non-null  float64\n",
      " 21  total_acc             396030 non-null  float64\n",
      " 22  initial_list_status   396030 non-null  object \n",
      " 23  application_type      396030 non-null  object \n",
      " 24  mort_acc              358235 non-null  float64\n",
      " 25  pub_rec_bankruptcies  395495 non-null  float64\n",
      " 26  address               396030 non-null  object \n",
      "dtypes: float64(12), object(15)\n",
      "memory usage: 81.6+ MB\n"
     ]
    }
   ],
   "source": [
    "df.info()"
   ]
  },
  {
   "cell_type": "markdown",
   "id": "9cdde15e",
   "metadata": {
    "papermill": {
     "duration": 0.051391,
     "end_time": "2024-05-18T08:10:25.943540",
     "exception": false,
     "start_time": "2024-05-18T08:10:25.892149",
     "status": "completed"
    },
    "tags": []
   },
   "source": [
    "# Project Tasks\n",
    "\n",
    "**Complete the tasks below! Keep in mind is usually more than one way to complete the task! Enjoy**\n",
    "\n",
    "-----\n",
    "------\n",
    "\n",
    "# Section 1: Exploratory Data Analysis\n",
    "\n",
    "**OVERALL GOAL: Get an understanding for which variables are important, view summary statistics, and visualize the data**\n",
    "\n",
    "\n",
    "----"
   ]
  },
  {
   "cell_type": "markdown",
   "id": "26ba4d80",
   "metadata": {
    "papermill": {
     "duration": 0.050751,
     "end_time": "2024-05-18T08:10:26.044599",
     "exception": false,
     "start_time": "2024-05-18T08:10:25.993848",
     "status": "completed"
    },
    "tags": []
   },
   "source": [
    "**TASK: Since we will be attempting to predict loan_status, create a countplot as shown below.**"
   ]
  },
  {
   "cell_type": "code",
   "execution_count": 10,
   "id": "4888fa9c",
   "metadata": {
    "execution": {
     "iopub.execute_input": "2024-05-18T08:10:26.151671Z",
     "iopub.status.busy": "2024-05-18T08:10:26.151240Z",
     "iopub.status.idle": "2024-05-18T08:10:26.156562Z",
     "shell.execute_reply": "2024-05-18T08:10:26.155379Z"
    },
    "papermill": {
     "duration": 0.062951,
     "end_time": "2024-05-18T08:10:26.159580",
     "exception": false,
     "start_time": "2024-05-18T08:10:26.096629",
     "status": "completed"
    },
    "tags": []
   },
   "outputs": [],
   "source": [
    "# CODE HERE"
   ]
  },
  {
   "cell_type": "code",
   "execution_count": 11,
   "id": "24ffd20e",
   "metadata": {
    "execution": {
     "iopub.execute_input": "2024-05-18T08:10:26.263439Z",
     "iopub.status.busy": "2024-05-18T08:10:26.263015Z",
     "iopub.status.idle": "2024-05-18T08:10:26.951597Z",
     "shell.execute_reply": "2024-05-18T08:10:26.950687Z"
    },
    "papermill": {
     "duration": 0.742727,
     "end_time": "2024-05-18T08:10:26.953972",
     "exception": false,
     "start_time": "2024-05-18T08:10:26.211245",
     "status": "completed"
    },
    "tags": []
   },
   "outputs": [
    {
     "data": {
      "text/plain": [
       "<Axes: xlabel='loan_status', ylabel='count'>"
      ]
     },
     "execution_count": 11,
     "metadata": {},
     "output_type": "execute_result"
    },
    {
     "data": {
      "image/png": "[encoded data removed]",
      "text/plain": [
       "<Figure size 640x480 with 1 Axes>"
      ]
     },
     "metadata": {},
     "output_type": "display_data"
    }
   ],
   "source": [
    "sns.countplot(data=df, x='loan_status')"
   ]
  },
  {
   "cell_type": "markdown",
   "id": "5db06674",
   "metadata": {
    "papermill": {
     "duration": 0.050792,
     "end_time": "2024-05-18T08:10:27.055354",
     "exception": false,
     "start_time": "2024-05-18T08:10:27.004562",
     "status": "completed"
    },
    "tags": []
   },
   "source": [
    "**TASK: Create a histogram of the loan_amnt column.**"
   ]
  },
  {
   "cell_type": "code",
   "execution_count": 12,
   "id": "e41da160",
   "metadata": {
    "execution": {
     "iopub.execute_input": "2024-05-18T08:10:27.160230Z",
     "iopub.status.busy": "2024-05-18T08:10:27.159447Z",
     "iopub.status.idle": "2024-05-18T08:10:27.629031Z",
     "shell.execute_reply": "2024-05-18T08:10:27.627605Z"
    },
    "papermill": {
     "duration": 0.525404,
     "end_time": "2024-05-18T08:10:27.631802",
     "exception": false,
     "start_time": "2024-05-18T08:10:27.106398",
     "status": "completed"
    },
    "tags": []
   },
   "outputs": [
    {
     "name": "stderr",
     "output_type": "stream",
     "text": [
      "/tmp/ipykernel_18/4211639829.py:5: UserWarning: \n",
      "\n",
      "`distplot` is a deprecated function and will be removed in seaborn v0.14.0.\n",
      "\n",
      "Please adapt your code to use either `displot` (a figure-level function with\n",
      "similar flexibility) or `histplot` (an axes-level function for histograms).\n",
      "\n",
      "For a guide to updating your code to use the new functions, please see\n",
      "https://gist.github.com/mwaskom/de44147ed2974457ad6372750bbe5751\n",
      "\n",
      "  sns.distplot(df['loan_amnt'],kde=False, bins=40)\n"
     ]
    },
    {
     "data": {
      "text/plain": [
       "<Axes: xlabel='loan_amnt'>"
      ]
     },
     "execution_count": 12,
     "metadata": {},
     "output_type": "execute_result"
    },
    {
     "data": {
      "image/png": "[encoded data removed]",
      "text/plain": [
       "<Figure size 1200x400 with 1 Axes>"
      ]
     },
     "metadata": {},
     "output_type": "display_data"
    }
   ],
   "source": [
    "# CODE HERE\n",
    "from  matplotlib import pyplot as plt\n",
    "import seaborn as sns\n",
    "plt.figure(figsize=(12,4))\n",
    "sns.distplot(df['loan_amnt'],kde=False, bins=40)"
   ]
  },
  {
   "cell_type": "markdown",
   "id": "6864546c",
   "metadata": {
    "papermill": {
     "duration": 0.051311,
     "end_time": "2024-05-18T08:10:27.734342",
     "exception": false,
     "start_time": "2024-05-18T08:10:27.683031",
     "status": "completed"
    },
    "tags": []
   },
   "source": [
    "**TASK: Let's explore correlation between the continuous feature variables. Calculate the correlation between all continuous numeric variables using .corr() method.**"
   ]
  },
  {
   "cell_type": "code",
   "execution_count": 13,
   "id": "ceba0596",
   "metadata": {
    "execution": {
     "iopub.execute_input": "2024-05-18T08:10:27.839112Z",
     "iopub.status.busy": "2024-05-18T08:10:27.838710Z",
     "iopub.status.idle": "2024-05-18T08:10:28.121502Z",
     "shell.execute_reply": "2024-05-18T08:10:28.120317Z"
    },
    "papermill": {
     "duration": 0.338533,
     "end_time": "2024-05-18T08:10:28.124520",
     "exception": false,
     "start_time": "2024-05-18T08:10:27.785987",
     "status": "completed"
    },
    "tags": []
   },
   "outputs": [],
   "source": [
    "# CODE HERE\n",
    "df['term']= df['term'].str.replace(' months','').astype(int)"
   ]
  },
  {
   "cell_type": "code",
   "execution_count": null,
   "id": "a64a27ee",
   "metadata": {
    "papermill": {
     "duration": 0.053531,
     "end_time": "2024-05-18T08:10:28.231763",
     "exception": false,
     "start_time": "2024-05-18T08:10:28.178232",
     "status": "completed"
    },
    "tags": []
   },
   "outputs": [],
   "source": []
  },
  {
   "cell_type": "markdown",
   "id": "0726d6c9",
   "metadata": {
    "papermill": {
     "duration": 0.052431,
     "end_time": "2024-05-18T08:10:28.337446",
     "exception": false,
     "start_time": "2024-05-18T08:10:28.285015",
     "status": "completed"
    },
    "tags": []
   },
   "source": [
    "**TASK: Visualize this using a heatmap. Depending on your version of matplotlib, you may need to manually adjust the heatmap.**\n",
    "\n",
    "* [Heatmap info](https://seaborn.pydata.org/generated/seaborn.heatmap.html#seaborn.heatmap)\n",
    "* [Help with resizing](https://stackoverflow.com/questions/56942670/matplotlib-seaborn-first-and-last-row-cut-in-half-of-heatmap-plot)"
   ]
  },
  {
   "cell_type": "code",
   "execution_count": 14,
   "id": "cfeb7ab9",
   "metadata": {
    "execution": {
     "iopub.execute_input": "2024-05-18T08:10:28.448160Z",
     "iopub.status.busy": "2024-05-18T08:10:28.447118Z",
     "iopub.status.idle": "2024-05-18T08:10:28.498627Z",
     "shell.execute_reply": "2024-05-18T08:10:28.497799Z"
    },
    "papermill": {
     "duration": 0.108353,
     "end_time": "2024-05-18T08:10:28.501132",
     "exception": false,
     "start_time": "2024-05-18T08:10:28.392779",
     "status": "completed"
    },
    "tags": []
   },
   "outputs": [
    {
     "data": {
      "text/html": [
       "<div>\n",
       "<style scoped>\n",
       "    .dataframe tbody tr th:only-of-type {\n",
       "        vertical-align: middle;\n",
       "    }\n",
       "\n",
       "    .dataframe tbody tr th {\n",
       "        vertical-align: top;\n",
       "    }\n",
       "\n",
       "    .dataframe thead th {\n",
       "        text-align: right;\n",
       "    }\n",
       "</style>\n",
       "<table border=\"1\" class=\"dataframe\">\n",
       "  <thead>\n",
       "    <tr style=\"text-align: right;\">\n",
       "      <th></th>\n",
       "      <th>loan_amnt</th>\n",
       "      <th>term</th>\n",
       "      <th>int_rate</th>\n",
       "      <th>installment</th>\n",
       "      <th>annual_inc</th>\n",
       "      <th>dti</th>\n",
       "      <th>open_acc</th>\n",
       "      <th>pub_rec</th>\n",
       "      <th>revol_bal</th>\n",
       "      <th>revol_util</th>\n",
       "      <th>total_acc</th>\n",
       "      <th>mort_acc</th>\n",
       "      <th>pub_rec_bankruptcies</th>\n",
       "    </tr>\n",
       "  </thead>\n",
       "  <tbody>\n",
       "    <tr>\n",
       "      <th>0</th>\n",
       "      <td>10000.0</td>\n",
       "      <td>36</td>\n",
       "      <td>11.44</td>\n",
       "      <td>329.48</td>\n",
       "      <td>117000.0</td>\n",
       "      <td>26.24</td>\n",
       "      <td>16.0</td>\n",
       "      <td>0.0</td>\n",
       "      <td>36369.0</td>\n",
       "      <td>41.8</td>\n",
       "      <td>25.0</td>\n",
       "      <td>0.0</td>\n",
       "      <td>0.0</td>\n",
       "    </tr>\n",
       "    <tr>\n",
       "      <th>1</th>\n",
       "      <td>8000.0</td>\n",
       "      <td>36</td>\n",
       "      <td>11.99</td>\n",
       "      <td>265.68</td>\n",
       "      <td>65000.0</td>\n",
       "      <td>22.05</td>\n",
       "      <td>17.0</td>\n",
       "      <td>0.0</td>\n",
       "      <td>20131.0</td>\n",
       "      <td>53.3</td>\n",
       "      <td>27.0</td>\n",
       "      <td>3.0</td>\n",
       "      <td>0.0</td>\n",
       "    </tr>\n",
       "    <tr>\n",
       "      <th>2</th>\n",
       "      <td>15600.0</td>\n",
       "      <td>36</td>\n",
       "      <td>10.49</td>\n",
       "      <td>506.97</td>\n",
       "      <td>43057.0</td>\n",
       "      <td>12.79</td>\n",
       "      <td>13.0</td>\n",
       "      <td>0.0</td>\n",
       "      <td>11987.0</td>\n",
       "      <td>92.2</td>\n",
       "      <td>26.0</td>\n",
       "      <td>0.0</td>\n",
       "      <td>0.0</td>\n",
       "    </tr>\n",
       "    <tr>\n",
       "      <th>3</th>\n",
       "      <td>7200.0</td>\n",
       "      <td>36</td>\n",
       "      <td>6.49</td>\n",
       "      <td>220.65</td>\n",
       "      <td>54000.0</td>\n",
       "      <td>2.60</td>\n",
       "      <td>6.0</td>\n",
       "      <td>0.0</td>\n",
       "      <td>5472.0</td>\n",
       "      <td>21.5</td>\n",
       "      <td>13.0</td>\n",
       "      <td>0.0</td>\n",
       "      <td>0.0</td>\n",
       "    </tr>\n",
       "    <tr>\n",
       "      <th>4</th>\n",
       "      <td>24375.0</td>\n",
       "      <td>60</td>\n",
       "      <td>17.27</td>\n",
       "      <td>609.33</td>\n",
       "      <td>55000.0</td>\n",
       "      <td>33.95</td>\n",
       "      <td>13.0</td>\n",
       "      <td>0.0</td>\n",
       "      <td>24584.0</td>\n",
       "      <td>69.8</td>\n",
       "      <td>43.0</td>\n",
       "      <td>1.0</td>\n",
       "      <td>0.0</td>\n",
       "    </tr>\n",
       "    <tr>\n",
       "      <th>...</th>\n",
       "      <td>...</td>\n",
       "      <td>...</td>\n",
       "      <td>...</td>\n",
       "      <td>...</td>\n",
       "      <td>...</td>\n",
       "      <td>...</td>\n",
       "      <td>...</td>\n",
       "      <td>...</td>\n",
       "      <td>...</td>\n",
       "      <td>...</td>\n",
       "      <td>...</td>\n",
       "      <td>...</td>\n",
       "      <td>...</td>\n",
       "    </tr>\n",
       "    <tr>\n",
       "      <th>396025</th>\n",
       "      <td>10000.0</td>\n",
       "      <td>60</td>\n",
       "      <td>10.99</td>\n",
       "      <td>217.38</td>\n",
       "      <td>40000.0</td>\n",
       "      <td>15.63</td>\n",
       "      <td>6.0</td>\n",
       "      <td>0.0</td>\n",
       "      <td>1990.0</td>\n",
       "      <td>34.3</td>\n",
       "      <td>23.0</td>\n",
       "      <td>0.0</td>\n",
       "      <td>0.0</td>\n",
       "    </tr>\n",
       "    <tr>\n",
       "      <th>396026</th>\n",
       "      <td>21000.0</td>\n",
       "      <td>36</td>\n",
       "      <td>12.29</td>\n",
       "      <td>700.42</td>\n",
       "      <td>110000.0</td>\n",
       "      <td>21.45</td>\n",
       "      <td>6.0</td>\n",
       "      <td>0.0</td>\n",
       "      <td>43263.0</td>\n",
       "      <td>95.7</td>\n",
       "      <td>8.0</td>\n",
       "      <td>1.0</td>\n",
       "      <td>0.0</td>\n",
       "    </tr>\n",
       "    <tr>\n",
       "      <th>396027</th>\n",
       "      <td>5000.0</td>\n",
       "      <td>36</td>\n",
       "      <td>9.99</td>\n",
       "      <td>161.32</td>\n",
       "      <td>56500.0</td>\n",
       "      <td>17.56</td>\n",
       "      <td>15.0</td>\n",
       "      <td>0.0</td>\n",
       "      <td>32704.0</td>\n",
       "      <td>66.9</td>\n",
       "      <td>23.0</td>\n",
       "      <td>0.0</td>\n",
       "      <td>0.0</td>\n",
       "    </tr>\n",
       "    <tr>\n",
       "      <th>396028</th>\n",
       "      <td>21000.0</td>\n",
       "      <td>60</td>\n",
       "      <td>15.31</td>\n",
       "      <td>503.02</td>\n",
       "      <td>64000.0</td>\n",
       "      <td>15.88</td>\n",
       "      <td>9.0</td>\n",
       "      <td>0.0</td>\n",
       "      <td>15704.0</td>\n",
       "      <td>53.8</td>\n",
       "      <td>20.0</td>\n",
       "      <td>5.0</td>\n",
       "      <td>0.0</td>\n",
       "    </tr>\n",
       "    <tr>\n",
       "      <th>396029</th>\n",
       "      <td>2000.0</td>\n",
       "      <td>36</td>\n",
       "      <td>13.61</td>\n",
       "      <td>67.98</td>\n",
       "      <td>42996.0</td>\n",
       "      <td>8.32</td>\n",
       "      <td>3.0</td>\n",
       "      <td>0.0</td>\n",
       "      <td>4292.0</td>\n",
       "      <td>91.3</td>\n",
       "      <td>19.0</td>\n",
       "      <td>NaN</td>\n",
       "      <td>0.0</td>\n",
       "    </tr>\n",
       "  </tbody>\n",
       "</table>\n",
       "<p>396030 rows × 13 columns</p>\n",
       "</div>"
      ],
      "text/plain": [
       "        loan_amnt  term  int_rate  installment  annual_inc    dti  open_acc  \\\n",
       "0         10000.0    36     11.44       329.48    117000.0  26.24      16.0   \n",
       "1          8000.0    36     11.99       265.68     65000.0  22.05      17.0   \n",
       "2         15600.0    36     10.49       506.97     43057.0  12.79      13.0   \n",
       "3          7200.0    36      6.49       220.65     54000.0   2.60       6.0   \n",
       "4         24375.0    60     17.27       609.33     55000.0  33.95      13.0   \n",
       "...           ...   ...       ...          ...         ...    ...       ...   \n",
       "396025    10000.0    60     10.99       217.38     40000.0  15.63       6.0   \n",
       "396026    21000.0    36     12.29       700.42    110000.0  21.45       6.0   \n",
       "396027     5000.0    36      9.99       161.32     56500.0  17.56      15.0   \n",
       "396028    21000.0    60     15.31       503.02     64000.0  15.88       9.0   \n",
       "396029     2000.0    36     13.61        67.98     42996.0   8.32       3.0   \n",
       "\n",
       "        pub_rec  revol_bal  revol_util  total_acc  mort_acc  \\\n",
       "0           0.0    36369.0        41.8       25.0       0.0   \n",
       "1           0.0    20131.0        53.3       27.0       3.0   \n",
       "2           0.0    11987.0        92.2       26.0       0.0   \n",
       "3           0.0     5472.0        21.5       13.0       0.0   \n",
       "4           0.0    24584.0        69.8       43.0       1.0   \n",
       "...         ...        ...         ...        ...       ...   \n",
       "396025      0.0     1990.0        34.3       23.0       0.0   \n",
       "396026      0.0    43263.0        95.7        8.0       1.0   \n",
       "396027      0.0    32704.0        66.9       23.0       0.0   \n",
       "396028      0.0    15704.0        53.8       20.0       5.0   \n",
       "396029      0.0     4292.0        91.3       19.0       NaN   \n",
       "\n",
       "        pub_rec_bankruptcies  \n",
       "0                        0.0  \n",
       "1                        0.0  \n",
       "2                        0.0  \n",
       "3                        0.0  \n",
       "4                        0.0  \n",
       "...                      ...  \n",
       "396025                   0.0  \n",
       "396026                   0.0  \n",
       "396027                   0.0  \n",
       "396028                   0.0  \n",
       "396029                   0.0  \n",
       "\n",
       "[396030 rows x 13 columns]"
      ]
     },
     "execution_count": 14,
     "metadata": {},
     "output_type": "execute_result"
    }
   ],
   "source": [
    "# CODE HERE\n",
    "continuous_columns = df.select_dtypes(include=['float64', 'int64'])\n",
    "continuous_columns"
   ]
  },
  {
   "cell_type": "code",
   "execution_count": 15,
   "id": "871d68ae",
   "metadata": {
    "execution": {
     "iopub.execute_input": "2024-05-18T08:10:28.612388Z",
     "iopub.status.busy": "2024-05-18T08:10:28.611993Z",
     "iopub.status.idle": "2024-05-18T08:10:29.857138Z",
     "shell.execute_reply": "2024-05-18T08:10:29.856342Z"
    },
    "papermill": {
     "duration": 1.304693,
     "end_time": "2024-05-18T08:10:29.861327",
     "exception": false,
     "start_time": "2024-05-18T08:10:28.556634",
     "status": "completed"
    },
    "tags": []
   },
   "outputs": [
    {
     "data": {
      "text/plain": [
       "<Axes: >"
      ]
     },
     "execution_count": 15,
     "metadata": {},
     "output_type": "execute_result"
    },
    {
     "data": {
      "image/png": "[encoded data removed]",
      "text/plain": [
       "<Figure size 1200x1000 with 2 Axes>"
      ]
     },
     "metadata": {},
     "output_type": "display_data"
    }
   ],
   "source": [
    "plt.figure(figsize =(12,10))\n",
    "sns.heatmap(continuous_columns.corr(), annot=True,cmap='viridis')"
   ]
  },
  {
   "cell_type": "markdown",
   "id": "459d129b",
   "metadata": {
    "papermill": {
     "duration": 0.056472,
     "end_time": "2024-05-18T08:10:29.973614",
     "exception": false,
     "start_time": "2024-05-18T08:10:29.917142",
     "status": "completed"
    },
    "tags": []
   },
   "source": [
    "**TASK: You should have noticed almost perfect correlation with the \"installment\" feature. Explore this feature further. Print out their descriptions and perform a scatterplot between them. Does this relationship make sense to you? Do you think there is duplicate information here?**"
   ]
  },
  {
   "cell_type": "code",
   "execution_count": 16,
   "id": "9273aa73",
   "metadata": {
    "execution": {
     "iopub.execute_input": "2024-05-18T08:10:30.088571Z",
     "iopub.status.busy": "2024-05-18T08:10:30.088177Z",
     "iopub.status.idle": "2024-05-18T08:10:30.094831Z",
     "shell.execute_reply": "2024-05-18T08:10:30.093328Z"
    },
    "papermill": {
     "duration": 0.067694,
     "end_time": "2024-05-18T08:10:30.098044",
     "exception": false,
     "start_time": "2024-05-18T08:10:30.030350",
     "status": "completed"
    },
    "tags": []
   },
   "outputs": [
    {
     "name": "stdout",
     "output_type": "stream",
     "text": [
      "The monthly payment owed by the borrower if the loan originates.\n"
     ]
    }
   ],
   "source": [
    "# CODE HERE\n",
    "feat_info('installment')"
   ]
  },
  {
   "cell_type": "code",
   "execution_count": 17,
   "id": "d46a47df",
   "metadata": {
    "execution": {
     "iopub.execute_input": "2024-05-18T08:10:30.217962Z",
     "iopub.status.busy": "2024-05-18T08:10:30.217520Z",
     "iopub.status.idle": "2024-05-18T08:10:30.222445Z",
     "shell.execute_reply": "2024-05-18T08:10:30.221765Z"
    },
    "papermill": {
     "duration": 0.069527,
     "end_time": "2024-05-18T08:10:30.225798",
     "exception": false,
     "start_time": "2024-05-18T08:10:30.156271",
     "status": "completed"
    },
    "tags": []
   },
   "outputs": [
    {
     "name": "stdout",
     "output_type": "stream",
     "text": [
      "The listed amount of the loan applied for by the borrower. If at some point in time, the credit department reduces the loan amount, then it will be reflected in this value.\n"
     ]
    }
   ],
   "source": [
    "feat_info('loan_amnt')"
   ]
  },
  {
   "cell_type": "code",
   "execution_count": 18,
   "id": "b3ffd4e1",
   "metadata": {
    "execution": {
     "iopub.execute_input": "2024-05-18T08:10:30.339011Z",
     "iopub.status.busy": "2024-05-18T08:10:30.338531Z",
     "iopub.status.idle": "2024-05-18T08:10:32.274452Z",
     "shell.execute_reply": "2024-05-18T08:10:32.273261Z"
    },
    "papermill": {
     "duration": 1.996256,
     "end_time": "2024-05-18T08:10:32.277034",
     "exception": false,
     "start_time": "2024-05-18T08:10:30.280778",
     "status": "completed"
    },
    "tags": []
   },
   "outputs": [
    {
     "data": {
      "text/plain": [
       "<Axes: xlabel='installment', ylabel='loan_amnt'>"
      ]
     },
     "execution_count": 18,
     "metadata": {},
     "output_type": "execute_result"
    },
    {
     "data": {
      "image/png": "[encoded data removed]",
      "text/plain": [
       "<Figure size 640x480 with 1 Axes>"
      ]
     },
     "metadata": {},
     "output_type": "display_data"
    }
   ],
   "source": [
    "sns.scatterplot(x='installment',y='loan_amnt',data=df)"
   ]
  },
  {
   "cell_type": "code",
   "execution_count": null,
   "id": "ab05e412",
   "metadata": {
    "papermill": {
     "duration": 0.057345,
     "end_time": "2024-05-18T08:10:32.391206",
     "exception": false,
     "start_time": "2024-05-18T08:10:32.333861",
     "status": "completed"
    },
    "tags": []
   },
   "outputs": [],
   "source": []
  },
  {
   "cell_type": "markdown",
   "id": "abf2555f",
   "metadata": {
    "papermill": {
     "duration": 0.057179,
     "end_time": "2024-05-18T08:10:32.508024",
     "exception": false,
     "start_time": "2024-05-18T08:10:32.450845",
     "status": "completed"
    },
    "tags": []
   },
   "source": [
    "**TASK: Create a boxplot showing the relationship between the loan_status and the Loan Amount.**"
   ]
  },
  {
   "cell_type": "code",
   "execution_count": 19,
   "id": "c082b48e",
   "metadata": {
    "execution": {
     "iopub.execute_input": "2024-05-18T08:10:32.625456Z",
     "iopub.status.busy": "2024-05-18T08:10:32.624996Z",
     "iopub.status.idle": "2024-05-18T08:10:33.254547Z",
     "shell.execute_reply": "2024-05-18T08:10:33.253355Z"
    },
    "papermill": {
     "duration": 0.691332,
     "end_time": "2024-05-18T08:10:33.257511",
     "exception": false,
     "start_time": "2024-05-18T08:10:32.566179",
     "status": "completed"
    },
    "tags": []
   },
   "outputs": [
    {
     "data": {
      "text/plain": [
       "<Axes: xlabel='loan_status', ylabel='loan_amnt'>"
      ]
     },
     "execution_count": 19,
     "metadata": {},
     "output_type": "execute_result"
    },
    {
     "data": {
      "image/png": "[encoded data removed]",
      "text/plain": [
       "<Figure size 640x480 with 1 Axes>"
      ]
     },
     "metadata": {},
     "output_type": "display_data"
    }
   ],
   "source": [
    "# CODE HERE\n",
    "sns.boxplot(x='loan_status',y='loan_amnt',data=df)"
   ]
  },
  {
   "cell_type": "code",
   "execution_count": 20,
   "id": "c44542ff",
   "metadata": {
    "execution": {
     "iopub.execute_input": "2024-05-18T08:10:33.374621Z",
     "iopub.status.busy": "2024-05-18T08:10:33.373957Z",
     "iopub.status.idle": "2024-05-18T08:10:33.462279Z",
     "shell.execute_reply": "2024-05-18T08:10:33.460960Z"
    },
    "papermill": {
     "duration": 0.150172,
     "end_time": "2024-05-18T08:10:33.464926",
     "exception": false,
     "start_time": "2024-05-18T08:10:33.314754",
     "status": "completed"
    },
    "tags": []
   },
   "outputs": [
    {
     "data": {
      "text/html": [
       "<div>\n",
       "<style scoped>\n",
       "    .dataframe tbody tr th:only-of-type {\n",
       "        vertical-align: middle;\n",
       "    }\n",
       "\n",
       "    .dataframe tbody tr th {\n",
       "        vertical-align: top;\n",
       "    }\n",
       "\n",
       "    .dataframe thead th {\n",
       "        text-align: right;\n",
       "    }\n",
       "</style>\n",
       "<table border=\"1\" class=\"dataframe\">\n",
       "  <thead>\n",
       "    <tr style=\"text-align: right;\">\n",
       "      <th></th>\n",
       "      <th>count</th>\n",
       "      <th>mean</th>\n",
       "      <th>std</th>\n",
       "      <th>min</th>\n",
       "      <th>25%</th>\n",
       "      <th>50%</th>\n",
       "      <th>75%</th>\n",
       "      <th>max</th>\n",
       "    </tr>\n",
       "    <tr>\n",
       "      <th>loan_status</th>\n",
       "      <th></th>\n",
       "      <th></th>\n",
       "      <th></th>\n",
       "      <th></th>\n",
       "      <th></th>\n",
       "      <th></th>\n",
       "      <th></th>\n",
       "      <th></th>\n",
       "    </tr>\n",
       "  </thead>\n",
       "  <tbody>\n",
       "    <tr>\n",
       "      <th>Charged Off</th>\n",
       "      <td>77673.0</td>\n",
       "      <td>15126.300967</td>\n",
       "      <td>8505.090557</td>\n",
       "      <td>1000.0</td>\n",
       "      <td>8525.0</td>\n",
       "      <td>14000.0</td>\n",
       "      <td>20000.0</td>\n",
       "      <td>40000.0</td>\n",
       "    </tr>\n",
       "    <tr>\n",
       "      <th>Fully Paid</th>\n",
       "      <td>318357.0</td>\n",
       "      <td>13866.878771</td>\n",
       "      <td>8302.319699</td>\n",
       "      <td>500.0</td>\n",
       "      <td>7500.0</td>\n",
       "      <td>12000.0</td>\n",
       "      <td>19225.0</td>\n",
       "      <td>40000.0</td>\n",
       "    </tr>\n",
       "  </tbody>\n",
       "</table>\n",
       "</div>"
      ],
      "text/plain": [
       "                count          mean          std     min     25%      50%  \\\n",
       "loan_status                                                                 \n",
       "Charged Off   77673.0  15126.300967  8505.090557  1000.0  8525.0  14000.0   \n",
       "Fully Paid   318357.0  13866.878771  8302.319699   500.0  7500.0  12000.0   \n",
       "\n",
       "                 75%      max  \n",
       "loan_status                    \n",
       "Charged Off  20000.0  40000.0  \n",
       "Fully Paid   19225.0  40000.0  "
      ]
     },
     "execution_count": 20,
     "metadata": {},
     "output_type": "execute_result"
    }
   ],
   "source": [
    "df.groupby('loan_status')['loan_amnt'].describe()"
   ]
  },
  {
   "cell_type": "markdown",
   "id": "af504cd6",
   "metadata": {
    "papermill": {
     "duration": 0.057576,
     "end_time": "2024-05-18T08:10:33.580075",
     "exception": false,
     "start_time": "2024-05-18T08:10:33.522499",
     "status": "completed"
    },
    "tags": []
   },
   "source": [
    "**TASK: Calculate the summary statistics for the loan amount, grouped by the loan_status.**"
   ]
  },
  {
   "cell_type": "markdown",
   "id": "5a6090fa",
   "metadata": {
    "papermill": {
     "duration": 0.057111,
     "end_time": "2024-05-18T08:10:33.694672",
     "exception": false,
     "start_time": "2024-05-18T08:10:33.637561",
     "status": "completed"
    },
    "tags": []
   },
   "source": [
    "**TASK: Let's explore the Grade and SubGrade columns that LendingClub attributes to the loans. What are the unique possible grades and subgrades?**"
   ]
  },
  {
   "cell_type": "code",
   "execution_count": 21,
   "id": "d98ddcd2",
   "metadata": {
    "execution": {
     "iopub.execute_input": "2024-05-18T08:10:33.811529Z",
     "iopub.status.busy": "2024-05-18T08:10:33.811149Z",
     "iopub.status.idle": "2024-05-18T08:10:33.850245Z",
     "shell.execute_reply": "2024-05-18T08:10:33.849392Z"
    },
    "papermill": {
     "duration": 0.100502,
     "end_time": "2024-05-18T08:10:33.852647",
     "exception": false,
     "start_time": "2024-05-18T08:10:33.752145",
     "status": "completed"
    },
    "tags": []
   },
   "outputs": [
    {
     "data": {
      "text/plain": [
       "array(['B', 'A', 'C', 'E', 'D', 'F', 'G'], dtype=object)"
      ]
     },
     "execution_count": 21,
     "metadata": {},
     "output_type": "execute_result"
    }
   ],
   "source": [
    "# CODE HERE\n",
    "df['grade'].unique()"
   ]
  },
  {
   "cell_type": "code",
   "execution_count": 22,
   "id": "0a732f76",
   "metadata": {
    "execution": {
     "iopub.execute_input": "2024-05-18T08:10:33.976658Z",
     "iopub.status.busy": "2024-05-18T08:10:33.975503Z",
     "iopub.status.idle": "2024-05-18T08:10:34.016541Z",
     "shell.execute_reply": "2024-05-18T08:10:34.015558Z"
    },
    "papermill": {
     "duration": 0.104635,
     "end_time": "2024-05-18T08:10:34.018661",
     "exception": false,
     "start_time": "2024-05-18T08:10:33.914026",
     "status": "completed"
    },
    "tags": []
   },
   "outputs": [
    {
     "data": {
      "text/plain": [
       "array(['B4', 'B5', 'B3', 'A2', 'C5', 'C3', 'A1', 'B2', 'C1', 'A5', 'E4',\n",
       "       'A4', 'A3', 'D1', 'C2', 'B1', 'D3', 'D5', 'D2', 'E1', 'E2', 'E5',\n",
       "       'F4', 'E3', 'D4', 'G1', 'F5', 'G2', 'C4', 'F1', 'F3', 'G5', 'G4',\n",
       "       'F2', 'G3'], dtype=object)"
      ]
     },
     "execution_count": 22,
     "metadata": {},
     "output_type": "execute_result"
    }
   ],
   "source": [
    "df['sub_grade'].unique()"
   ]
  },
  {
   "cell_type": "markdown",
   "id": "e00be3bb",
   "metadata": {
    "papermill": {
     "duration": 0.060134,
     "end_time": "2024-05-18T08:10:34.139168",
     "exception": false,
     "start_time": "2024-05-18T08:10:34.079034",
     "status": "completed"
    },
    "tags": []
   },
   "source": [
    "**TASK: Create a countplot per grade. Set the hue to the loan_status label.**"
   ]
  },
  {
   "cell_type": "code",
   "execution_count": 23,
   "id": "5c9dfb06",
   "metadata": {
    "execution": {
     "iopub.execute_input": "2024-05-18T08:10:34.263319Z",
     "iopub.status.busy": "2024-05-18T08:10:34.262626Z",
     "iopub.status.idle": "2024-05-18T08:10:35.377075Z",
     "shell.execute_reply": "2024-05-18T08:10:35.375561Z"
    },
    "papermill": {
     "duration": 1.179542,
     "end_time": "2024-05-18T08:10:35.379576",
     "exception": false,
     "start_time": "2024-05-18T08:10:34.200034",
     "status": "completed"
    },
    "tags": []
   },
   "outputs": [
    {
     "data": {
      "text/plain": [
       "<Axes: xlabel='grade', ylabel='count'>"
      ]
     },
     "execution_count": 23,
     "metadata": {},
     "output_type": "execute_result"
    },
    {
     "data": {
      "image/png": "[encoded data removed]",
      "text/plain": [
       "<Figure size 640x480 with 1 Axes>"
      ]
     },
     "metadata": {},
     "output_type": "display_data"
    }
   ],
   "source": [
    "# CODE HERE\n",
    "sns.countplot(x='grade',data=df,hue='loan_status')"
   ]
  },
  {
   "cell_type": "code",
   "execution_count": null,
   "id": "75a3b35c",
   "metadata": {
    "papermill": {
     "duration": 0.058925,
     "end_time": "2024-05-18T08:10:35.498189",
     "exception": false,
     "start_time": "2024-05-18T08:10:35.439264",
     "status": "completed"
    },
    "tags": []
   },
   "outputs": [],
   "source": []
  },
  {
   "cell_type": "markdown",
   "id": "b8d69586",
   "metadata": {
    "papermill": {
     "duration": 0.059396,
     "end_time": "2024-05-18T08:10:35.618457",
     "exception": false,
     "start_time": "2024-05-18T08:10:35.559061",
     "status": "completed"
    },
    "tags": []
   },
   "source": [
    "**TASK: Display a count plot per subgrade. You may need to resize for this plot and [reorder](https://seaborn.pydata.org/generated/seaborn.countplot.html#seaborn.countplot) the x axis. Feel free to edit the color palette. Explore both all loans made per subgrade as well being separated based on the loan_status. After creating this plot, go ahead and create a similar plot, but set hue=\"loan_status\"**"
   ]
  },
  {
   "cell_type": "code",
   "execution_count": 24,
   "id": "254c9b33",
   "metadata": {
    "execution": {
     "iopub.execute_input": "2024-05-18T08:10:35.739282Z",
     "iopub.status.busy": "2024-05-18T08:10:35.738522Z",
     "iopub.status.idle": "2024-05-18T08:10:36.611899Z",
     "shell.execute_reply": "2024-05-18T08:10:36.610579Z"
    },
    "papermill": {
     "duration": 0.937068,
     "end_time": "2024-05-18T08:10:36.614558",
     "exception": false,
     "start_time": "2024-05-18T08:10:35.677490",
     "status": "completed"
    },
    "tags": []
   },
   "outputs": [
    {
     "data": {
      "text/plain": [
       "<Axes: xlabel='sub_grade', ylabel='count'>"
      ]
     },
     "execution_count": 24,
     "metadata": {},
     "output_type": "execute_result"
    },
    {
     "data": {
      "image/png": "[encoded data removed]",
      "text/plain": [
       "<Figure size 1200x400 with 1 Axes>"
      ]
     },
     "metadata": {},
     "output_type": "display_data"
    }
   ],
   "source": [
    "#CODE HERE\n",
    "plt.figure(figsize=(12,4))\n",
    "subgrade_order =sorted(df['sub_grade'].unique())\n",
    "sns.countplot(x='sub_grade',data=df, order =subgrade_order,palette='coolwarm')"
   ]
  },
  {
   "cell_type": "code",
   "execution_count": 25,
   "id": "135ab6b5",
   "metadata": {
    "execution": {
     "iopub.execute_input": "2024-05-18T08:10:36.736729Z",
     "iopub.status.busy": "2024-05-18T08:10:36.735826Z",
     "iopub.status.idle": "2024-05-18T08:10:38.117074Z",
     "shell.execute_reply": "2024-05-18T08:10:38.115922Z"
    },
    "papermill": {
     "duration": 1.445103,
     "end_time": "2024-05-18T08:10:38.119689",
     "exception": false,
     "start_time": "2024-05-18T08:10:36.674586",
     "status": "completed"
    },
    "tags": []
   },
   "outputs": [
    {
     "data": {
      "text/plain": [
       "<Axes: xlabel='sub_grade', ylabel='count'>"
      ]
     },
     "execution_count": 25,
     "metadata": {},
     "output_type": "execute_result"
    },
    {
     "data": {
      "image/png": "[encoded data removed]",
      "text/plain": [
       "<Figure size 1200x400 with 1 Axes>"
      ]
     },
     "metadata": {},
     "output_type": "display_data"
    }
   ],
   "source": [
    "#CODE HERE\n",
    "plt.figure(figsize=(12,4))\n",
    "sns.countplot(x='sub_grade',data=df, order =subgrade_order,palette='coolwarm',hue='loan_status')"
   ]
  },
  {
   "cell_type": "markdown",
   "id": "3509c49b",
   "metadata": {
    "papermill": {
     "duration": 0.064066,
     "end_time": "2024-05-18T08:10:38.245699",
     "exception": false,
     "start_time": "2024-05-18T08:10:38.181633",
     "status": "completed"
    },
    "tags": []
   },
   "source": [
    "**TASK: It looks like F and G subgrades don't get paid back that often. Isloate those and recreate the countplot just for those subgrades.**"
   ]
  },
  {
   "cell_type": "code",
   "execution_count": 26,
   "id": "a080fe38",
   "metadata": {
    "execution": {
     "iopub.execute_input": "2024-05-18T08:10:38.372223Z",
     "iopub.status.busy": "2024-05-18T08:10:38.371743Z",
     "iopub.status.idle": "2024-05-18T08:10:38.969062Z",
     "shell.execute_reply": "2024-05-18T08:10:38.967617Z"
    },
    "papermill": {
     "duration": 0.663536,
     "end_time": "2024-05-18T08:10:38.971487",
     "exception": false,
     "start_time": "2024-05-18T08:10:38.307951",
     "status": "completed"
    },
    "tags": []
   },
   "outputs": [
    {
     "data": {
      "text/plain": [
       "<Axes: xlabel='sub_grade', ylabel='count'>"
      ]
     },
     "execution_count": 26,
     "metadata": {},
     "output_type": "execute_result"
    },
    {
     "data": {
      "image/png": "[encoded data removed]",
      "text/plain": [
       "<Figure size 1200x400 with 1 Axes>"
      ]
     },
     "metadata": {},
     "output_type": "display_data"
    }
   ],
   "source": [
    "#CODE HERE\n",
    "f_and_g=df[(df['grade']=='G')| (df['grade']=='F')]\n",
    "plt.figure(figsize=(12,4))\n",
    "subgrade_order =sorted(f_and_g['sub_grade'].unique())\n",
    "sns.countplot(x='sub_grade',data=f_and_g, order =subgrade_order,palette='coolwarm',hue='loan_status')"
   ]
  },
  {
   "cell_type": "code",
   "execution_count": null,
   "id": "442c0771",
   "metadata": {
    "papermill": {
     "duration": 0.061308,
     "end_time": "2024-05-18T08:10:39.093806",
     "exception": false,
     "start_time": "2024-05-18T08:10:39.032498",
     "status": "completed"
    },
    "tags": []
   },
   "outputs": [],
   "source": []
  },
  {
   "cell_type": "markdown",
   "id": "3843621e",
   "metadata": {
    "papermill": {
     "duration": 0.062154,
     "end_time": "2024-05-18T08:10:39.217422",
     "exception": false,
     "start_time": "2024-05-18T08:10:39.155268",
     "status": "completed"
    },
    "tags": []
   },
   "source": [
    "**TASK: Create a new column called 'loan_repaid' which will contain a 1 if the loan status was \"Fully Paid\" and a 0 if it was \"Charged Off\".**"
   ]
  },
  {
   "cell_type": "code",
   "execution_count": 27,
   "id": "f3055cdd",
   "metadata": {
    "execution": {
     "iopub.execute_input": "2024-05-18T08:10:39.342611Z",
     "iopub.status.busy": "2024-05-18T08:10:39.341798Z",
     "iopub.status.idle": "2024-05-18T08:10:39.391826Z",
     "shell.execute_reply": "2024-05-18T08:10:39.390334Z"
    },
    "papermill": {
     "duration": 0.115398,
     "end_time": "2024-05-18T08:10:39.394756",
     "exception": false,
     "start_time": "2024-05-18T08:10:39.279358",
     "status": "completed"
    },
    "tags": []
   },
   "outputs": [],
   "source": [
    "# CODE HERE\n",
    "df['loan_repaid'] = df['loan_status'].map({'Fully Paid':1,'Charged Off':0})"
   ]
  },
  {
   "cell_type": "code",
   "execution_count": 28,
   "id": "101f856b",
   "metadata": {
    "execution": {
     "iopub.execute_input": "2024-05-18T08:10:39.518413Z",
     "iopub.status.busy": "2024-05-18T08:10:39.517975Z",
     "iopub.status.idle": "2024-05-18T08:10:39.537715Z",
     "shell.execute_reply": "2024-05-18T08:10:39.536378Z"
    },
    "papermill": {
     "duration": 0.084632,
     "end_time": "2024-05-18T08:10:39.540177",
     "exception": false,
     "start_time": "2024-05-18T08:10:39.455545",
     "status": "completed"
    },
    "tags": []
   },
   "outputs": [
    {
     "data": {
      "text/html": [
       "<div>\n",
       "<style scoped>\n",
       "    .dataframe tbody tr th:only-of-type {\n",
       "        vertical-align: middle;\n",
       "    }\n",
       "\n",
       "    .dataframe tbody tr th {\n",
       "        vertical-align: top;\n",
       "    }\n",
       "\n",
       "    .dataframe thead th {\n",
       "        text-align: right;\n",
       "    }\n",
       "</style>\n",
       "<table border=\"1\" class=\"dataframe\">\n",
       "  <thead>\n",
       "    <tr style=\"text-align: right;\">\n",
       "      <th></th>\n",
       "      <th>loan_repaid</th>\n",
       "      <th>loan_status</th>\n",
       "    </tr>\n",
       "  </thead>\n",
       "  <tbody>\n",
       "    <tr>\n",
       "      <th>0</th>\n",
       "      <td>1</td>\n",
       "      <td>Fully Paid</td>\n",
       "    </tr>\n",
       "    <tr>\n",
       "      <th>1</th>\n",
       "      <td>1</td>\n",
       "      <td>Fully Paid</td>\n",
       "    </tr>\n",
       "    <tr>\n",
       "      <th>2</th>\n",
       "      <td>1</td>\n",
       "      <td>Fully Paid</td>\n",
       "    </tr>\n",
       "    <tr>\n",
       "      <th>3</th>\n",
       "      <td>1</td>\n",
       "      <td>Fully Paid</td>\n",
       "    </tr>\n",
       "    <tr>\n",
       "      <th>4</th>\n",
       "      <td>0</td>\n",
       "      <td>Charged Off</td>\n",
       "    </tr>\n",
       "    <tr>\n",
       "      <th>...</th>\n",
       "      <td>...</td>\n",
       "      <td>...</td>\n",
       "    </tr>\n",
       "    <tr>\n",
       "      <th>396025</th>\n",
       "      <td>1</td>\n",
       "      <td>Fully Paid</td>\n",
       "    </tr>\n",
       "    <tr>\n",
       "      <th>396026</th>\n",
       "      <td>1</td>\n",
       "      <td>Fully Paid</td>\n",
       "    </tr>\n",
       "    <tr>\n",
       "      <th>396027</th>\n",
       "      <td>1</td>\n",
       "      <td>Fully Paid</td>\n",
       "    </tr>\n",
       "    <tr>\n",
       "      <th>396028</th>\n",
       "      <td>1</td>\n",
       "      <td>Fully Paid</td>\n",
       "    </tr>\n",
       "    <tr>\n",
       "      <th>396029</th>\n",
       "      <td>1</td>\n",
       "      <td>Fully Paid</td>\n",
       "    </tr>\n",
       "  </tbody>\n",
       "</table>\n",
       "<p>396030 rows × 2 columns</p>\n",
       "</div>"
      ],
      "text/plain": [
       "        loan_repaid  loan_status\n",
       "0                 1   Fully Paid\n",
       "1                 1   Fully Paid\n",
       "2                 1   Fully Paid\n",
       "3                 1   Fully Paid\n",
       "4                 0  Charged Off\n",
       "...             ...          ...\n",
       "396025            1   Fully Paid\n",
       "396026            1   Fully Paid\n",
       "396027            1   Fully Paid\n",
       "396028            1   Fully Paid\n",
       "396029            1   Fully Paid\n",
       "\n",
       "[396030 rows x 2 columns]"
      ]
     },
     "execution_count": 28,
     "metadata": {},
     "output_type": "execute_result"
    }
   ],
   "source": [
    "df[['loan_repaid','loan_status']]"
   ]
  },
  {
   "cell_type": "code",
   "execution_count": null,
   "id": "20319434",
   "metadata": {
    "papermill": {
     "duration": 0.06226,
     "end_time": "2024-05-18T08:10:39.666646",
     "exception": false,
     "start_time": "2024-05-18T08:10:39.604386",
     "status": "completed"
    },
    "tags": []
   },
   "outputs": [],
   "source": []
  },
  {
   "cell_type": "code",
   "execution_count": null,
   "id": "7fb464d1",
   "metadata": {
    "papermill": {
     "duration": 0.062332,
     "end_time": "2024-05-18T08:10:39.792371",
     "exception": false,
     "start_time": "2024-05-18T08:10:39.730039",
     "status": "completed"
    },
    "tags": []
   },
   "outputs": [],
   "source": []
  },
  {
   "cell_type": "markdown",
   "id": "03fede11",
   "metadata": {
    "papermill": {
     "duration": 0.062118,
     "end_time": "2024-05-18T08:10:39.916711",
     "exception": false,
     "start_time": "2024-05-18T08:10:39.854593",
     "status": "completed"
    },
    "tags": []
   },
   "source": [
    "**CHALLENGE TASK: (Note this is hard, but can be done in one line!) Create a bar plot showing the correlation of the numeric features to the new loan_repaid column. [Helpful Link](https://pandas.pydata.org/pandas-docs/stable/reference/api/pandas.DataFrame.plot.bar.html)**"
   ]
  },
  {
   "cell_type": "code",
   "execution_count": 29,
   "id": "140f8813",
   "metadata": {
    "execution": {
     "iopub.execute_input": "2024-05-18T08:10:40.045548Z",
     "iopub.status.busy": "2024-05-18T08:10:40.045103Z",
     "iopub.status.idle": "2024-05-18T08:10:40.703576Z",
     "shell.execute_reply": "2024-05-18T08:10:40.702368Z"
    },
    "papermill": {
     "duration": 0.726883,
     "end_time": "2024-05-18T08:10:40.706015",
     "exception": false,
     "start_time": "2024-05-18T08:10:39.979132",
     "status": "completed"
    },
    "tags": []
   },
   "outputs": [
    {
     "data": {
      "text/plain": [
       "<Axes: >"
      ]
     },
     "execution_count": 29,
     "metadata": {},
     "output_type": "execute_result"
    },
    {
     "data": {
      "image/png": "[encoded data removed]",
      "text/plain": [
       "<Figure size 640x480 with 1 Axes>"
      ]
     },
     "metadata": {},
     "output_type": "display_data"
    }
   ],
   "source": [
    "#CODE HERE\n",
    "continuous_columns = df.select_dtypes(include=['float64', 'int64'])\n",
    "continuous_columns.corr()['loan_repaid'].sort_values().drop('loan_repaid').plot(kind='bar')"
   ]
  },
  {
   "cell_type": "code",
   "execution_count": null,
   "id": "2605b8a2",
   "metadata": {
    "papermill": {
     "duration": 0.063766,
     "end_time": "2024-05-18T08:10:40.831410",
     "exception": false,
     "start_time": "2024-05-18T08:10:40.767644",
     "status": "completed"
    },
    "tags": []
   },
   "outputs": [],
   "source": []
  },
  {
   "cell_type": "markdown",
   "id": "9e7193b6",
   "metadata": {
    "papermill": {
     "duration": 0.061674,
     "end_time": "2024-05-18T08:10:40.955439",
     "exception": false,
     "start_time": "2024-05-18T08:10:40.893765",
     "status": "completed"
    },
    "tags": []
   },
   "source": [
    "---\n",
    "---\n",
    "# Section 2: Data PreProcessing\n",
    "\n",
    "**Section Goals: Remove or fill any missing data. Remove unnecessary or repetitive features. Convert categorical string features to dummy variables.**\n",
    "\n"
   ]
  },
  {
   "cell_type": "code",
   "execution_count": null,
   "id": "42c479b0",
   "metadata": {
    "papermill": {
     "duration": 0.062876,
     "end_time": "2024-05-18T08:10:41.079865",
     "exception": false,
     "start_time": "2024-05-18T08:10:41.016989",
     "status": "completed"
    },
    "tags": []
   },
   "outputs": [],
   "source": []
  },
  {
   "cell_type": "markdown",
   "id": "8cf5c530",
   "metadata": {
    "papermill": {
     "duration": 0.06198,
     "end_time": "2024-05-18T08:10:41.204351",
     "exception": false,
     "start_time": "2024-05-18T08:10:41.142371",
     "status": "completed"
    },
    "tags": []
   },
   "source": [
    "# Missing Data\n",
    "\n",
    "**Let's explore this missing data columns. We use a variety of factors to decide whether or not they would be useful, to see if we should keep, discard, or fill in the missing data.**"
   ]
  },
  {
   "cell_type": "markdown",
   "id": "ca952109",
   "metadata": {
    "papermill": {
     "duration": 0.0614,
     "end_time": "2024-05-18T08:10:41.328026",
     "exception": false,
     "start_time": "2024-05-18T08:10:41.266626",
     "status": "completed"
    },
    "tags": []
   },
   "source": [
    "**TASK: What is the length of the dataframe?**"
   ]
  },
  {
   "cell_type": "code",
   "execution_count": 30,
   "id": "2d910342",
   "metadata": {
    "execution": {
     "iopub.execute_input": "2024-05-18T08:10:41.455944Z",
     "iopub.status.busy": "2024-05-18T08:10:41.455442Z",
     "iopub.status.idle": "2024-05-18T08:10:41.460495Z",
     "shell.execute_reply": "2024-05-18T08:10:41.459293Z"
    },
    "papermill": {
     "duration": 0.073388,
     "end_time": "2024-05-18T08:10:41.463229",
     "exception": false,
     "start_time": "2024-05-18T08:10:41.389841",
     "status": "completed"
    },
    "tags": []
   },
   "outputs": [],
   "source": [
    "# CODE HERE"
   ]
  },
  {
   "cell_type": "code",
   "execution_count": null,
   "id": "52b6680d",
   "metadata": {
    "papermill": {
     "duration": 0.063901,
     "end_time": "2024-05-18T08:10:41.590299",
     "exception": false,
     "start_time": "2024-05-18T08:10:41.526398",
     "status": "completed"
    },
    "tags": []
   },
   "outputs": [],
   "source": []
  },
  {
   "cell_type": "markdown",
   "id": "e45604fa",
   "metadata": {
    "papermill": {
     "duration": 0.062934,
     "end_time": "2024-05-18T08:10:41.718342",
     "exception": false,
     "start_time": "2024-05-18T08:10:41.655408",
     "status": "completed"
    },
    "tags": []
   },
   "source": [
    "**TASK: Create a Series that displays the total count of missing values per column.**"
   ]
  },
  {
   "cell_type": "code",
   "execution_count": 31,
   "id": "bd357e60",
   "metadata": {
    "execution": {
     "iopub.execute_input": "2024-05-18T08:10:41.846264Z",
     "iopub.status.busy": "2024-05-18T08:10:41.845818Z",
     "iopub.status.idle": "2024-05-18T08:10:41.850174Z",
     "shell.execute_reply": "2024-05-18T08:10:41.849374Z"
    },
    "papermill": {
     "duration": 0.070977,
     "end_time": "2024-05-18T08:10:41.852340",
     "exception": false,
     "start_time": "2024-05-18T08:10:41.781363",
     "status": "completed"
    },
    "tags": []
   },
   "outputs": [],
   "source": [
    "# CODE HERE"
   ]
  },
  {
   "cell_type": "code",
   "execution_count": null,
   "id": "cfe66610",
   "metadata": {
    "papermill": {
     "duration": 0.063383,
     "end_time": "2024-05-18T08:10:41.980288",
     "exception": false,
     "start_time": "2024-05-18T08:10:41.916905",
     "status": "completed"
    },
    "tags": []
   },
   "outputs": [],
   "source": []
  },
  {
   "cell_type": "markdown",
   "id": "0993d116",
   "metadata": {
    "papermill": {
     "duration": 0.081373,
     "end_time": "2024-05-18T08:10:42.135211",
     "exception": false,
     "start_time": "2024-05-18T08:10:42.053838",
     "status": "completed"
    },
    "tags": []
   },
   "source": [
    "**TASK: Convert this Series to be in term of percentage of the total DataFrame**"
   ]
  },
  {
   "cell_type": "code",
   "execution_count": 32,
   "id": "6217874c",
   "metadata": {
    "execution": {
     "iopub.execute_input": "2024-05-18T08:10:42.274546Z",
     "iopub.status.busy": "2024-05-18T08:10:42.273681Z",
     "iopub.status.idle": "2024-05-18T08:10:42.279228Z",
     "shell.execute_reply": "2024-05-18T08:10:42.277928Z"
    },
    "papermill": {
     "duration": 0.077885,
     "end_time": "2024-05-18T08:10:42.281501",
     "exception": false,
     "start_time": "2024-05-18T08:10:42.203616",
     "status": "completed"
    },
    "tags": []
   },
   "outputs": [],
   "source": [
    "# CODE HERE"
   ]
  },
  {
   "cell_type": "code",
   "execution_count": null,
   "id": "d6a02371",
   "metadata": {
    "papermill": {
     "duration": 0.0644,
     "end_time": "2024-05-18T08:10:42.413439",
     "exception": false,
     "start_time": "2024-05-18T08:10:42.349039",
     "status": "completed"
    },
    "tags": []
   },
   "outputs": [],
   "source": []
  },
  {
   "cell_type": "markdown",
   "id": "d4b9e51c",
   "metadata": {
    "papermill": {
     "duration": 0.069873,
     "end_time": "2024-05-18T08:10:42.554511",
     "exception": false,
     "start_time": "2024-05-18T08:10:42.484638",
     "status": "completed"
    },
    "tags": []
   },
   "source": [
    "**TASK: Let's examine emp_title and emp_length to see whether it will be okay to drop them. Print out their feature information using the feat_info() function from the top of this notebook.**"
   ]
  },
  {
   "cell_type": "code",
   "execution_count": 33,
   "id": "b41b12d8",
   "metadata": {
    "execution": {
     "iopub.execute_input": "2024-05-18T08:10:42.707664Z",
     "iopub.status.busy": "2024-05-18T08:10:42.707086Z",
     "iopub.status.idle": "2024-05-18T08:10:42.712108Z",
     "shell.execute_reply": "2024-05-18T08:10:42.710974Z"
    },
    "papermill": {
     "duration": 0.0978,
     "end_time": "2024-05-18T08:10:42.715718",
     "exception": false,
     "start_time": "2024-05-18T08:10:42.617918",
     "status": "completed"
    },
    "tags": []
   },
   "outputs": [],
   "source": [
    "# CODE HERE"
   ]
  },
  {
   "cell_type": "code",
   "execution_count": null,
   "id": "6d972244",
   "metadata": {
    "papermill": {
     "duration": 0.063703,
     "end_time": "2024-05-18T08:10:42.847350",
     "exception": false,
     "start_time": "2024-05-18T08:10:42.783647",
     "status": "completed"
    },
    "tags": []
   },
   "outputs": [],
   "source": []
  },
  {
   "cell_type": "markdown",
   "id": "f6513666",
   "metadata": {
    "papermill": {
     "duration": 0.064682,
     "end_time": "2024-05-18T08:10:42.976447",
     "exception": false,
     "start_time": "2024-05-18T08:10:42.911765",
     "status": "completed"
    },
    "tags": []
   },
   "source": [
    "**TASK: How many unique employment job titles are there?**"
   ]
  },
  {
   "cell_type": "code",
   "execution_count": 34,
   "id": "e19e5b48",
   "metadata": {
    "execution": {
     "iopub.execute_input": "2024-05-18T08:10:43.113734Z",
     "iopub.status.busy": "2024-05-18T08:10:43.113307Z",
     "iopub.status.idle": "2024-05-18T08:10:43.118217Z",
     "shell.execute_reply": "2024-05-18T08:10:43.116936Z"
    },
    "papermill": {
     "duration": 0.075216,
     "end_time": "2024-05-18T08:10:43.121679",
     "exception": false,
     "start_time": "2024-05-18T08:10:43.046463",
     "status": "completed"
    },
    "tags": []
   },
   "outputs": [],
   "source": [
    "# CODE HERE"
   ]
  },
  {
   "cell_type": "code",
   "execution_count": null,
   "id": "e657837a",
   "metadata": {
    "papermill": {
     "duration": 0.064083,
     "end_time": "2024-05-18T08:10:43.252316",
     "exception": false,
     "start_time": "2024-05-18T08:10:43.188233",
     "status": "completed"
    },
    "tags": []
   },
   "outputs": [],
   "source": []
  },
  {
   "cell_type": "code",
   "execution_count": null,
   "id": "28637c92",
   "metadata": {
    "papermill": {
     "duration": 0.061046,
     "end_time": "2024-05-18T08:10:43.375380",
     "exception": false,
     "start_time": "2024-05-18T08:10:43.314334",
     "status": "completed"
    },
    "tags": []
   },
   "outputs": [],
   "source": []
  },
  {
   "cell_type": "markdown",
   "id": "05d822cf",
   "metadata": {
    "papermill": {
     "duration": 0.062823,
     "end_time": "2024-05-18T08:10:43.499370",
     "exception": false,
     "start_time": "2024-05-18T08:10:43.436547",
     "status": "completed"
    },
    "tags": []
   },
   "source": [
    "**TASK: Realistically there are too many unique job titles to try to convert this to a dummy variable feature. Let's remove that emp_title column.**"
   ]
  },
  {
   "cell_type": "code",
   "execution_count": 35,
   "id": "838d3458",
   "metadata": {
    "execution": {
     "iopub.execute_input": "2024-05-18T08:10:43.629659Z",
     "iopub.status.busy": "2024-05-18T08:10:43.628961Z",
     "iopub.status.idle": "2024-05-18T08:10:43.632931Z",
     "shell.execute_reply": "2024-05-18T08:10:43.632103Z"
    },
    "papermill": {
     "duration": 0.072519,
     "end_time": "2024-05-18T08:10:43.635028",
     "exception": false,
     "start_time": "2024-05-18T08:10:43.562509",
     "status": "completed"
    },
    "tags": []
   },
   "outputs": [],
   "source": [
    "# CODE HERE"
   ]
  },
  {
   "cell_type": "code",
   "execution_count": null,
   "id": "4d0b566b",
   "metadata": {
    "papermill": {
     "duration": 0.063002,
     "end_time": "2024-05-18T08:10:43.760801",
     "exception": false,
     "start_time": "2024-05-18T08:10:43.697799",
     "status": "completed"
    },
    "tags": []
   },
   "outputs": [],
   "source": []
  },
  {
   "cell_type": "markdown",
   "id": "3b22fde4",
   "metadata": {
    "papermill": {
     "duration": 0.062582,
     "end_time": "2024-05-18T08:10:43.886735",
     "exception": false,
     "start_time": "2024-05-18T08:10:43.824153",
     "status": "completed"
    },
    "tags": []
   },
   "source": [
    "**TASK: Create a count plot of the emp_length feature column. Challenge: Sort the order of the values.**"
   ]
  },
  {
   "cell_type": "code",
   "execution_count": 36,
   "id": "8cc5da72",
   "metadata": {
    "execution": {
     "iopub.execute_input": "2024-05-18T08:10:44.016285Z",
     "iopub.status.busy": "2024-05-18T08:10:44.015558Z",
     "iopub.status.idle": "2024-05-18T08:10:44.019617Z",
     "shell.execute_reply": "2024-05-18T08:10:44.018773Z"
    },
    "papermill": {
     "duration": 0.07159,
     "end_time": "2024-05-18T08:10:44.021752",
     "exception": false,
     "start_time": "2024-05-18T08:10:43.950162",
     "status": "completed"
    },
    "tags": []
   },
   "outputs": [],
   "source": [
    "# CODE HERE"
   ]
  },
  {
   "cell_type": "code",
   "execution_count": null,
   "id": "5cf63557",
   "metadata": {
    "papermill": {
     "duration": 0.06382,
     "end_time": "2024-05-18T08:10:44.149514",
     "exception": false,
     "start_time": "2024-05-18T08:10:44.085694",
     "status": "completed"
    },
    "tags": []
   },
   "outputs": [],
   "source": []
  },
  {
   "cell_type": "code",
   "execution_count": null,
   "id": "720c2968",
   "metadata": {
    "papermill": {
     "duration": 0.062568,
     "end_time": "2024-05-18T08:10:44.275547",
     "exception": false,
     "start_time": "2024-05-18T08:10:44.212979",
     "status": "completed"
    },
    "tags": []
   },
   "outputs": [],
   "source": []
  },
  {
   "cell_type": "code",
   "execution_count": null,
   "id": "86bdae35",
   "metadata": {
    "papermill": {
     "duration": 0.062993,
     "end_time": "2024-05-18T08:10:44.402782",
     "exception": false,
     "start_time": "2024-05-18T08:10:44.339789",
     "status": "completed"
    },
    "tags": []
   },
   "outputs": [],
   "source": []
  },
  {
   "cell_type": "markdown",
   "id": "b7ac4f7e",
   "metadata": {
    "papermill": {
     "duration": 0.062926,
     "end_time": "2024-05-18T08:10:44.528635",
     "exception": false,
     "start_time": "2024-05-18T08:10:44.465709",
     "status": "completed"
    },
    "tags": []
   },
   "source": [
    "**TASK: Plot out the countplot with a hue separating Fully Paid vs Charged Off**"
   ]
  },
  {
   "cell_type": "code",
   "execution_count": 37,
   "id": "d2bd85a3",
   "metadata": {
    "execution": {
     "iopub.execute_input": "2024-05-18T08:10:44.659076Z",
     "iopub.status.busy": "2024-05-18T08:10:44.658389Z",
     "iopub.status.idle": "2024-05-18T08:10:44.662246Z",
     "shell.execute_reply": "2024-05-18T08:10:44.661415Z"
    },
    "papermill": {
     "duration": 0.070833,
     "end_time": "2024-05-18T08:10:44.664350",
     "exception": false,
     "start_time": "2024-05-18T08:10:44.593517",
     "status": "completed"
    },
    "tags": []
   },
   "outputs": [],
   "source": [
    "# CODE HERE"
   ]
  },
  {
   "cell_type": "code",
   "execution_count": null,
   "id": "0179bba4",
   "metadata": {
    "papermill": {
     "duration": 0.062962,
     "end_time": "2024-05-18T08:10:44.790550",
     "exception": false,
     "start_time": "2024-05-18T08:10:44.727588",
     "status": "completed"
    },
    "tags": []
   },
   "outputs": [],
   "source": []
  },
  {
   "cell_type": "markdown",
   "id": "4377c27c",
   "metadata": {
    "papermill": {
     "duration": 0.06275,
     "end_time": "2024-05-18T08:10:44.916249",
     "exception": false,
     "start_time": "2024-05-18T08:10:44.853499",
     "status": "completed"
    },
    "tags": []
   },
   "source": [
    "**CHALLENGE TASK: This still doesn't really inform us if there is a strong relationship between employment length and being charged off, what we want is the percentage of charge offs per category. Essentially informing us what percent of people per employment category didn't pay back their loan. There are a multitude of ways to create this Series. Once you've created it, see if visualize it with a [bar plot](https://pandas.pydata.org/pandas-docs/version/0.23.4/generated/pandas.DataFrame.plot.html). This may be tricky, refer to solutions if you get stuck on creating this Series.**"
   ]
  },
  {
   "cell_type": "code",
   "execution_count": 38,
   "id": "4466b42b",
   "metadata": {
    "execution": {
     "iopub.execute_input": "2024-05-18T08:10:45.044493Z",
     "iopub.status.busy": "2024-05-18T08:10:45.043782Z",
     "iopub.status.idle": "2024-05-18T08:10:45.047613Z",
     "shell.execute_reply": "2024-05-18T08:10:45.046865Z"
    },
    "papermill": {
     "duration": 0.070575,
     "end_time": "2024-05-18T08:10:45.049798",
     "exception": false,
     "start_time": "2024-05-18T08:10:44.979223",
     "status": "completed"
    },
    "tags": []
   },
   "outputs": [],
   "source": [
    "# CODE HERE"
   ]
  },
  {
   "cell_type": "code",
   "execution_count": null,
   "id": "c73b9639",
   "metadata": {
    "papermill": {
     "duration": 0.064034,
     "end_time": "2024-05-18T08:10:45.178447",
     "exception": false,
     "start_time": "2024-05-18T08:10:45.114413",
     "status": "completed"
    },
    "tags": []
   },
   "outputs": [],
   "source": []
  },
  {
   "cell_type": "code",
   "execution_count": null,
   "id": "e240c9a8",
   "metadata": {
    "papermill": {
     "duration": 0.063609,
     "end_time": "2024-05-18T08:10:45.305347",
     "exception": false,
     "start_time": "2024-05-18T08:10:45.241738",
     "status": "completed"
    },
    "tags": []
   },
   "outputs": [],
   "source": []
  },
  {
   "cell_type": "code",
   "execution_count": null,
   "id": "fbae242a",
   "metadata": {
    "papermill": {
     "duration": 0.062949,
     "end_time": "2024-05-18T08:10:45.431607",
     "exception": false,
     "start_time": "2024-05-18T08:10:45.368658",
     "status": "completed"
    },
    "tags": []
   },
   "outputs": [],
   "source": []
  },
  {
   "cell_type": "code",
   "execution_count": null,
   "id": "4082d1e1",
   "metadata": {
    "papermill": {
     "duration": 0.063065,
     "end_time": "2024-05-18T08:10:45.557645",
     "exception": false,
     "start_time": "2024-05-18T08:10:45.494580",
     "status": "completed"
    },
    "tags": []
   },
   "outputs": [],
   "source": []
  },
  {
   "cell_type": "code",
   "execution_count": null,
   "id": "d47bf1a1",
   "metadata": {
    "papermill": {
     "duration": 0.062405,
     "end_time": "2024-05-18T08:10:45.683455",
     "exception": false,
     "start_time": "2024-05-18T08:10:45.621050",
     "status": "completed"
    },
    "tags": []
   },
   "outputs": [],
   "source": []
  },
  {
   "cell_type": "markdown",
   "id": "fd11f3e2",
   "metadata": {
    "papermill": {
     "duration": 0.06277,
     "end_time": "2024-05-18T08:10:45.809191",
     "exception": false,
     "start_time": "2024-05-18T08:10:45.746421",
     "status": "completed"
    },
    "tags": []
   },
   "source": [
    "**TASK: Charge off rates are extremely similar across all employment lengths. Go ahead and drop the emp_length column.**"
   ]
  },
  {
   "cell_type": "code",
   "execution_count": 39,
   "id": "a94b2682",
   "metadata": {
    "execution": {
     "iopub.execute_input": "2024-05-18T08:10:45.947121Z",
     "iopub.status.busy": "2024-05-18T08:10:45.946739Z",
     "iopub.status.idle": "2024-05-18T08:10:45.951060Z",
     "shell.execute_reply": "2024-05-18T08:10:45.950243Z"
    },
    "papermill": {
     "duration": 0.073201,
     "end_time": "2024-05-18T08:10:45.953209",
     "exception": false,
     "start_time": "2024-05-18T08:10:45.880008",
     "status": "completed"
    },
    "tags": []
   },
   "outputs": [],
   "source": [
    "# CODE HERE"
   ]
  },
  {
   "cell_type": "code",
   "execution_count": null,
   "id": "c6779a5c",
   "metadata": {
    "papermill": {
     "duration": 0.064074,
     "end_time": "2024-05-18T08:10:46.081619",
     "exception": false,
     "start_time": "2024-05-18T08:10:46.017545",
     "status": "completed"
    },
    "tags": []
   },
   "outputs": [],
   "source": []
  },
  {
   "cell_type": "markdown",
   "id": "cde874f2",
   "metadata": {
    "papermill": {
     "duration": 0.063978,
     "end_time": "2024-05-18T08:10:46.210746",
     "exception": false,
     "start_time": "2024-05-18T08:10:46.146768",
     "status": "completed"
    },
    "tags": []
   },
   "source": [
    "**TASK: Revisit the DataFrame to see what feature columns still have missing data.**"
   ]
  },
  {
   "cell_type": "code",
   "execution_count": null,
   "id": "e5c8e103",
   "metadata": {
    "papermill": {
     "duration": 0.063928,
     "end_time": "2024-05-18T08:10:46.338211",
     "exception": false,
     "start_time": "2024-05-18T08:10:46.274283",
     "status": "completed"
    },
    "tags": []
   },
   "outputs": [],
   "source": []
  },
  {
   "cell_type": "code",
   "execution_count": null,
   "id": "6337257a",
   "metadata": {
    "papermill": {
     "duration": 0.062938,
     "end_time": "2024-05-18T08:10:46.465005",
     "exception": false,
     "start_time": "2024-05-18T08:10:46.402067",
     "status": "completed"
    },
    "tags": []
   },
   "outputs": [],
   "source": []
  },
  {
   "cell_type": "markdown",
   "id": "dd762c37",
   "metadata": {
    "papermill": {
     "duration": 0.063598,
     "end_time": "2024-05-18T08:10:46.592104",
     "exception": false,
     "start_time": "2024-05-18T08:10:46.528506",
     "status": "completed"
    },
    "tags": []
   },
   "source": [
    "**TASK: Review the title column vs the purpose column. Is this repeated information?**"
   ]
  },
  {
   "cell_type": "code",
   "execution_count": 40,
   "id": "df60fc7b",
   "metadata": {
    "execution": {
     "iopub.execute_input": "2024-05-18T08:10:46.717016Z",
     "iopub.status.busy": "2024-05-18T08:10:46.716539Z",
     "iopub.status.idle": "2024-05-18T08:10:46.721211Z",
     "shell.execute_reply": "2024-05-18T08:10:46.720071Z"
    },
    "papermill": {
     "duration": 0.069712,
     "end_time": "2024-05-18T08:10:46.723527",
     "exception": false,
     "start_time": "2024-05-18T08:10:46.653815",
     "status": "completed"
    },
    "tags": []
   },
   "outputs": [],
   "source": [
    "# CODE HERE"
   ]
  },
  {
   "cell_type": "code",
   "execution_count": null,
   "id": "ce2e01f9",
   "metadata": {
    "papermill": {
     "duration": 0.061748,
     "end_time": "2024-05-18T08:10:46.847136",
     "exception": false,
     "start_time": "2024-05-18T08:10:46.785388",
     "status": "completed"
    },
    "tags": []
   },
   "outputs": [],
   "source": []
  },
  {
   "cell_type": "code",
   "execution_count": 41,
   "id": "a86b5088",
   "metadata": {
    "execution": {
     "iopub.execute_input": "2024-05-18T08:10:46.974130Z",
     "iopub.status.busy": "2024-05-18T08:10:46.973641Z",
     "iopub.status.idle": "2024-05-18T08:10:46.981849Z",
     "shell.execute_reply": "2024-05-18T08:10:46.980986Z"
    },
    "papermill": {
     "duration": 0.074193,
     "end_time": "2024-05-18T08:10:46.983853",
     "exception": false,
     "start_time": "2024-05-18T08:10:46.909660",
     "status": "completed"
    },
    "tags": []
   },
   "outputs": [
    {
     "data": {
      "text/plain": [
       "0                   Vacation\n",
       "1         Debt consolidation\n",
       "2    Credit card refinancing\n",
       "3    Credit card refinancing\n",
       "4      Credit Card Refinance\n",
       "5         Debt consolidation\n",
       "6           Home improvement\n",
       "7       No More Credit Cards\n",
       "8         Debt consolidation\n",
       "9         Debt Consolidation\n",
       "Name: title, dtype: object"
      ]
     },
     "execution_count": 41,
     "metadata": {},
     "output_type": "execute_result"
    }
   ],
   "source": [
    "df['title'].head(10)"
   ]
  },
  {
   "cell_type": "markdown",
   "id": "a29127f4",
   "metadata": {
    "papermill": {
     "duration": 0.062468,
     "end_time": "2024-05-18T08:10:47.108939",
     "exception": false,
     "start_time": "2024-05-18T08:10:47.046471",
     "status": "completed"
    },
    "tags": []
   },
   "source": [
    "**TASK: The title column is simply a string subcategory/description of the purpose column. Go ahead and drop the title column.**"
   ]
  },
  {
   "cell_type": "code",
   "execution_count": 42,
   "id": "85c16c99",
   "metadata": {
    "execution": {
     "iopub.execute_input": "2024-05-18T08:10:47.236168Z",
     "iopub.status.busy": "2024-05-18T08:10:47.235447Z",
     "iopub.status.idle": "2024-05-18T08:10:47.240806Z",
     "shell.execute_reply": "2024-05-18T08:10:47.239593Z"
    },
    "papermill": {
     "duration": 0.071656,
     "end_time": "2024-05-18T08:10:47.243198",
     "exception": false,
     "start_time": "2024-05-18T08:10:47.171542",
     "status": "completed"
    },
    "tags": []
   },
   "outputs": [],
   "source": [
    "# CODE HERE"
   ]
  },
  {
   "cell_type": "code",
   "execution_count": null,
   "id": "43a737a0",
   "metadata": {
    "papermill": {
     "duration": 0.063897,
     "end_time": "2024-05-18T08:10:47.372188",
     "exception": false,
     "start_time": "2024-05-18T08:10:47.308291",
     "status": "completed"
    },
    "tags": []
   },
   "outputs": [],
   "source": []
  },
  {
   "cell_type": "markdown",
   "id": "d003fec1",
   "metadata": {
    "papermill": {
     "duration": 0.063544,
     "end_time": "2024-05-18T08:10:47.499439",
     "exception": false,
     "start_time": "2024-05-18T08:10:47.435895",
     "status": "completed"
    },
    "tags": []
   },
   "source": [
    "---\n",
    "**NOTE: This is one of the hardest parts of the project! Refer to the solutions video if you need guidance, feel free to fill or drop the missing values of the mort_acc however you see fit! Here we're going with a very specific approach.**\n",
    "\n",
    "\n",
    "---\n",
    "**TASK: Find out what the mort_acc feature represents**"
   ]
  },
  {
   "cell_type": "code",
   "execution_count": 43,
   "id": "f11526eb",
   "metadata": {
    "execution": {
     "iopub.execute_input": "2024-05-18T08:10:47.629834Z",
     "iopub.status.busy": "2024-05-18T08:10:47.629436Z",
     "iopub.status.idle": "2024-05-18T08:10:47.633699Z",
     "shell.execute_reply": "2024-05-18T08:10:47.632821Z"
    },
    "papermill": {
     "duration": 0.072529,
     "end_time": "2024-05-18T08:10:47.635810",
     "exception": false,
     "start_time": "2024-05-18T08:10:47.563281",
     "status": "completed"
    },
    "tags": []
   },
   "outputs": [],
   "source": [
    "# CODE HERE"
   ]
  },
  {
   "cell_type": "code",
   "execution_count": null,
   "id": "0388aa69",
   "metadata": {
    "papermill": {
     "duration": 0.116973,
     "end_time": "2024-05-18T08:10:47.814638",
     "exception": false,
     "start_time": "2024-05-18T08:10:47.697665",
     "status": "completed"
    },
    "tags": []
   },
   "outputs": [],
   "source": []
  },
  {
   "cell_type": "markdown",
   "id": "d99ce486",
   "metadata": {
    "papermill": {
     "duration": 0.062694,
     "end_time": "2024-05-18T08:10:47.939363",
     "exception": false,
     "start_time": "2024-05-18T08:10:47.876669",
     "status": "completed"
    },
    "tags": []
   },
   "source": [
    "**TASK: Create a value_counts of the mort_acc column.**"
   ]
  },
  {
   "cell_type": "code",
   "execution_count": 44,
   "id": "f78e5d72",
   "metadata": {
    "execution": {
     "iopub.execute_input": "2024-05-18T08:10:48.067390Z",
     "iopub.status.busy": "2024-05-18T08:10:48.065735Z",
     "iopub.status.idle": "2024-05-18T08:10:48.071422Z",
     "shell.execute_reply": "2024-05-18T08:10:48.070222Z"
    },
    "papermill": {
     "duration": 0.072359,
     "end_time": "2024-05-18T08:10:48.073786",
     "exception": false,
     "start_time": "2024-05-18T08:10:48.001427",
     "status": "completed"
    },
    "tags": []
   },
   "outputs": [],
   "source": [
    "# CODE HERE"
   ]
  },
  {
   "cell_type": "code",
   "execution_count": null,
   "id": "d7c2629e",
   "metadata": {
    "papermill": {
     "duration": 0.060986,
     "end_time": "2024-05-18T08:10:48.197256",
     "exception": false,
     "start_time": "2024-05-18T08:10:48.136270",
     "status": "completed"
    },
    "tags": []
   },
   "outputs": [],
   "source": []
  },
  {
   "cell_type": "markdown",
   "id": "5ba034b0",
   "metadata": {
    "papermill": {
     "duration": 0.061684,
     "end_time": "2024-05-18T08:10:48.320475",
     "exception": false,
     "start_time": "2024-05-18T08:10:48.258791",
     "status": "completed"
    },
    "tags": []
   },
   "source": [
    "**TASK: There are many ways we could deal with this missing data. We could attempt to build a simple model to fill it in, such as a linear model, we could just fill it in based on the mean of the other columns, or you could even bin the columns into categories and then set NaN as its own category. There is no 100% correct approach! Let's review the other columsn to see which most highly correlates to mort_acc**"
   ]
  },
  {
   "cell_type": "code",
   "execution_count": null,
   "id": "5e29f0df",
   "metadata": {
    "papermill": {
     "duration": 0.061678,
     "end_time": "2024-05-18T08:10:48.444472",
     "exception": false,
     "start_time": "2024-05-18T08:10:48.382794",
     "status": "completed"
    },
    "tags": []
   },
   "outputs": [],
   "source": []
  },
  {
   "cell_type": "code",
   "execution_count": null,
   "id": "362e7d74",
   "metadata": {
    "papermill": {
     "duration": 0.061238,
     "end_time": "2024-05-18T08:10:48.567328",
     "exception": false,
     "start_time": "2024-05-18T08:10:48.506090",
     "status": "completed"
    },
    "tags": []
   },
   "outputs": [],
   "source": []
  },
  {
   "cell_type": "markdown",
   "id": "25c63c55",
   "metadata": {
    "papermill": {
     "duration": 0.062196,
     "end_time": "2024-05-18T08:10:48.693646",
     "exception": false,
     "start_time": "2024-05-18T08:10:48.631450",
     "status": "completed"
    },
    "tags": []
   },
   "source": [
    "**TASK: Looks like the total_acc feature correlates with the mort_acc , this makes sense! Let's try this fillna() approach. We will group the dataframe by the total_acc and calculate the mean value for the mort_acc per total_acc entry. To get the result below:**"
   ]
  },
  {
   "cell_type": "code",
   "execution_count": null,
   "id": "6951b0d2",
   "metadata": {
    "papermill": {
     "duration": 0.061529,
     "end_time": "2024-05-18T08:10:48.817269",
     "exception": false,
     "start_time": "2024-05-18T08:10:48.755740",
     "status": "completed"
    },
    "tags": []
   },
   "outputs": [],
   "source": []
  },
  {
   "cell_type": "code",
   "execution_count": null,
   "id": "bc6ccdc4",
   "metadata": {
    "papermill": {
     "duration": 0.062136,
     "end_time": "2024-05-18T08:10:48.942269",
     "exception": false,
     "start_time": "2024-05-18T08:10:48.880133",
     "status": "completed"
    },
    "tags": []
   },
   "outputs": [],
   "source": []
  },
  {
   "cell_type": "markdown",
   "id": "9e204a7c",
   "metadata": {
    "papermill": {
     "duration": 0.062497,
     "end_time": "2024-05-18T08:10:49.066386",
     "exception": false,
     "start_time": "2024-05-18T08:10:49.003889",
     "status": "completed"
    },
    "tags": []
   },
   "source": [
    "**CHALLENGE TASK: Let's fill in the missing mort_acc values based on their total_acc value. If the mort_acc is missing, then we will fill in that missing value with the mean value corresponding to its total_acc value from the Series we created above. This involves using an .apply() method with two columns. Check out the link below for more info, or review the solutions video/notebook.**\n",
    "\n",
    "[Helpful Link](https://stackoverflow.com/questions/13331698/how-to-apply-a-function-to-two-columns-of-pandas-dataframe) "
   ]
  },
  {
   "cell_type": "code",
   "execution_count": 45,
   "id": "04b931dc",
   "metadata": {
    "execution": {
     "iopub.execute_input": "2024-05-18T08:10:49.192980Z",
     "iopub.status.busy": "2024-05-18T08:10:49.192309Z",
     "iopub.status.idle": "2024-05-18T08:10:49.196762Z",
     "shell.execute_reply": "2024-05-18T08:10:49.196000Z"
    },
    "papermill": {
     "duration": 0.070554,
     "end_time": "2024-05-18T08:10:49.199260",
     "exception": false,
     "start_time": "2024-05-18T08:10:49.128706",
     "status": "completed"
    },
    "tags": []
   },
   "outputs": [],
   "source": [
    "# CODE HERE"
   ]
  },
  {
   "cell_type": "code",
   "execution_count": null,
   "id": "505a07b7",
   "metadata": {
    "papermill": {
     "duration": 0.06182,
     "end_time": "2024-05-18T08:10:49.323355",
     "exception": false,
     "start_time": "2024-05-18T08:10:49.261535",
     "status": "completed"
    },
    "tags": []
   },
   "outputs": [],
   "source": []
  },
  {
   "cell_type": "code",
   "execution_count": null,
   "id": "d67635aa",
   "metadata": {
    "papermill": {
     "duration": 0.062145,
     "end_time": "2024-05-18T08:10:49.447683",
     "exception": false,
     "start_time": "2024-05-18T08:10:49.385538",
     "status": "completed"
    },
    "tags": []
   },
   "outputs": [],
   "source": []
  },
  {
   "cell_type": "code",
   "execution_count": null,
   "id": "09c0a44e",
   "metadata": {
    "papermill": {
     "duration": 0.061478,
     "end_time": "2024-05-18T08:10:49.571476",
     "exception": false,
     "start_time": "2024-05-18T08:10:49.509998",
     "status": "completed"
    },
    "tags": []
   },
   "outputs": [],
   "source": []
  },
  {
   "cell_type": "code",
   "execution_count": null,
   "id": "5565a2c6",
   "metadata": {
    "papermill": {
     "duration": 0.061094,
     "end_time": "2024-05-18T08:10:49.696655",
     "exception": false,
     "start_time": "2024-05-18T08:10:49.635561",
     "status": "completed"
    },
    "tags": []
   },
   "outputs": [],
   "source": []
  },
  {
   "cell_type": "code",
   "execution_count": null,
   "id": "417068fc",
   "metadata": {
    "papermill": {
     "duration": 0.062019,
     "end_time": "2024-05-18T08:10:49.821068",
     "exception": false,
     "start_time": "2024-05-18T08:10:49.759049",
     "status": "completed"
    },
    "tags": []
   },
   "outputs": [],
   "source": []
  },
  {
   "cell_type": "markdown",
   "id": "cc9c0429",
   "metadata": {
    "papermill": {
     "duration": 0.061984,
     "end_time": "2024-05-18T08:10:49.946303",
     "exception": false,
     "start_time": "2024-05-18T08:10:49.884319",
     "status": "completed"
    },
    "tags": []
   },
   "source": [
    "**TASK: revol_util and the pub_rec_bankruptcies have missing data points, but they account for less than 0.5% of the total data. Go ahead and remove the rows that are missing those values in those columns with dropna().**"
   ]
  },
  {
   "cell_type": "code",
   "execution_count": 46,
   "id": "1a7804f4",
   "metadata": {
    "execution": {
     "iopub.execute_input": "2024-05-18T08:10:50.073293Z",
     "iopub.status.busy": "2024-05-18T08:10:50.072927Z",
     "iopub.status.idle": "2024-05-18T08:10:50.077076Z",
     "shell.execute_reply": "2024-05-18T08:10:50.075913Z"
    },
    "papermill": {
     "duration": 0.070232,
     "end_time": "2024-05-18T08:10:50.079673",
     "exception": false,
     "start_time": "2024-05-18T08:10:50.009441",
     "status": "completed"
    },
    "tags": []
   },
   "outputs": [],
   "source": [
    "# CODE HERE"
   ]
  },
  {
   "cell_type": "code",
   "execution_count": null,
   "id": "0440bd7d",
   "metadata": {
    "papermill": {
     "duration": 0.063773,
     "end_time": "2024-05-18T08:10:50.208127",
     "exception": false,
     "start_time": "2024-05-18T08:10:50.144354",
     "status": "completed"
    },
    "tags": []
   },
   "outputs": [],
   "source": []
  },
  {
   "cell_type": "code",
   "execution_count": null,
   "id": "1d678b07",
   "metadata": {
    "papermill": {
     "duration": 0.064546,
     "end_time": "2024-05-18T08:10:50.336548",
     "exception": false,
     "start_time": "2024-05-18T08:10:50.272002",
     "status": "completed"
    },
    "scrolled": true,
    "tags": []
   },
   "outputs": [],
   "source": []
  },
  {
   "cell_type": "markdown",
   "id": "bd9c5770",
   "metadata": {
    "papermill": {
     "duration": 0.064672,
     "end_time": "2024-05-18T08:10:50.465665",
     "exception": false,
     "start_time": "2024-05-18T08:10:50.400993",
     "status": "completed"
    },
    "tags": []
   },
   "source": [
    "## Categorical Variables and Dummy Variables\n",
    "\n",
    "**We're done working with the missing data! Now we just need to deal with the string values due to the categorical columns.**\n",
    "\n",
    "**TASK: List all the columns that are currently non-numeric. [Helpful Link](https://stackoverflow.com/questions/22470690/get-list-of-pandas-dataframe-columns-based-on-data-type)**\n",
    "\n",
    "[Another very useful method call](https://pandas.pydata.org/pandas-docs/stable/reference/api/pandas.DataFrame.select_dtypes.html)"
   ]
  },
  {
   "cell_type": "code",
   "execution_count": 47,
   "id": "ae2533ae",
   "metadata": {
    "execution": {
     "iopub.execute_input": "2024-05-18T08:10:50.597599Z",
     "iopub.status.busy": "2024-05-18T08:10:50.596562Z",
     "iopub.status.idle": "2024-05-18T08:10:50.601486Z",
     "shell.execute_reply": "2024-05-18T08:10:50.600378Z"
    },
    "papermill": {
     "duration": 0.073508,
     "end_time": "2024-05-18T08:10:50.604226",
     "exception": false,
     "start_time": "2024-05-18T08:10:50.530718",
     "status": "completed"
    },
    "tags": []
   },
   "outputs": [],
   "source": [
    "# CODE HERE"
   ]
  },
  {
   "cell_type": "code",
   "execution_count": null,
   "id": "ba0ff696",
   "metadata": {
    "papermill": {
     "duration": 0.06172,
     "end_time": "2024-05-18T08:10:50.731032",
     "exception": false,
     "start_time": "2024-05-18T08:10:50.669312",
     "status": "completed"
    },
    "tags": []
   },
   "outputs": [],
   "source": []
  },
  {
   "cell_type": "markdown",
   "id": "9174c3ad",
   "metadata": {
    "papermill": {
     "duration": 0.061735,
     "end_time": "2024-05-18T08:10:50.854429",
     "exception": false,
     "start_time": "2024-05-18T08:10:50.792694",
     "status": "completed"
    },
    "tags": []
   },
   "source": [
    "---\n",
    "**Let's now go through all the string features to see what we should do with them.**\n",
    "\n",
    "---\n",
    "\n",
    "\n",
    "### term feature\n",
    "\n",
    "**TASK: Convert the term feature into either a 36 or 60 integer numeric data type using .apply() or .map().**"
   ]
  },
  {
   "cell_type": "code",
   "execution_count": 48,
   "id": "48139ff4",
   "metadata": {
    "execution": {
     "iopub.execute_input": "2024-05-18T08:10:50.991915Z",
     "iopub.status.busy": "2024-05-18T08:10:50.991024Z",
     "iopub.status.idle": "2024-05-18T08:10:50.995948Z",
     "shell.execute_reply": "2024-05-18T08:10:50.995121Z"
    },
    "papermill": {
     "duration": 0.074085,
     "end_time": "2024-05-18T08:10:50.998303",
     "exception": false,
     "start_time": "2024-05-18T08:10:50.924218",
     "status": "completed"
    },
    "tags": []
   },
   "outputs": [],
   "source": [
    "# CODE HERE"
   ]
  },
  {
   "cell_type": "code",
   "execution_count": null,
   "id": "03aba3f7",
   "metadata": {
    "papermill": {
     "duration": 0.065037,
     "end_time": "2024-05-18T08:10:51.128221",
     "exception": false,
     "start_time": "2024-05-18T08:10:51.063184",
     "status": "completed"
    },
    "tags": []
   },
   "outputs": [],
   "source": []
  },
  {
   "cell_type": "code",
   "execution_count": null,
   "id": "cb5d7838",
   "metadata": {
    "papermill": {
     "duration": 0.063525,
     "end_time": "2024-05-18T08:10:51.256572",
     "exception": false,
     "start_time": "2024-05-18T08:10:51.193047",
     "status": "completed"
    },
    "tags": []
   },
   "outputs": [],
   "source": []
  },
  {
   "cell_type": "markdown",
   "id": "3f337777",
   "metadata": {
    "papermill": {
     "duration": 0.065235,
     "end_time": "2024-05-18T08:10:51.386610",
     "exception": false,
     "start_time": "2024-05-18T08:10:51.321375",
     "status": "completed"
    },
    "tags": []
   },
   "source": [
    "### grade feature\n",
    "\n",
    "**TASK: We already know grade is part of sub_grade, so just drop the grade feature.**"
   ]
  },
  {
   "cell_type": "code",
   "execution_count": 49,
   "id": "a6a17b87",
   "metadata": {
    "execution": {
     "iopub.execute_input": "2024-05-18T08:10:51.517015Z",
     "iopub.status.busy": "2024-05-18T08:10:51.516615Z",
     "iopub.status.idle": "2024-05-18T08:10:51.521588Z",
     "shell.execute_reply": "2024-05-18T08:10:51.520519Z"
    },
    "papermill": {
     "duration": 0.073124,
     "end_time": "2024-05-18T08:10:51.523855",
     "exception": false,
     "start_time": "2024-05-18T08:10:51.450731",
     "status": "completed"
    },
    "tags": []
   },
   "outputs": [],
   "source": [
    "# CODE HERE"
   ]
  },
  {
   "cell_type": "code",
   "execution_count": null,
   "id": "db4ea086",
   "metadata": {
    "papermill": {
     "duration": 0.06535,
     "end_time": "2024-05-18T08:10:51.653747",
     "exception": false,
     "start_time": "2024-05-18T08:10:51.588397",
     "status": "completed"
    },
    "tags": []
   },
   "outputs": [],
   "source": []
  },
  {
   "cell_type": "markdown",
   "id": "597c60f6",
   "metadata": {
    "papermill": {
     "duration": 0.06271,
     "end_time": "2024-05-18T08:10:51.779671",
     "exception": false,
     "start_time": "2024-05-18T08:10:51.716961",
     "status": "completed"
    },
    "tags": []
   },
   "source": [
    "**TASK: Convert the subgrade into dummy variables. Then concatenate these new columns to the original dataframe. Remember to drop the original subgrade column and to add drop_first=True to your get_dummies call.**"
   ]
  },
  {
   "cell_type": "code",
   "execution_count": 50,
   "id": "96a972f1",
   "metadata": {
    "execution": {
     "iopub.execute_input": "2024-05-18T08:10:51.908832Z",
     "iopub.status.busy": "2024-05-18T08:10:51.907561Z",
     "iopub.status.idle": "2024-05-18T08:10:51.913063Z",
     "shell.execute_reply": "2024-05-18T08:10:51.911890Z"
    },
    "papermill": {
     "duration": 0.072305,
     "end_time": "2024-05-18T08:10:51.915378",
     "exception": false,
     "start_time": "2024-05-18T08:10:51.843073",
     "status": "completed"
    },
    "tags": []
   },
   "outputs": [],
   "source": [
    "# CODE HERE"
   ]
  },
  {
   "cell_type": "code",
   "execution_count": null,
   "id": "b8ba3f38",
   "metadata": {
    "papermill": {
     "duration": 0.06154,
     "end_time": "2024-05-18T08:10:52.039239",
     "exception": false,
     "start_time": "2024-05-18T08:10:51.977699",
     "status": "completed"
    },
    "tags": []
   },
   "outputs": [],
   "source": []
  },
  {
   "cell_type": "code",
   "execution_count": null,
   "id": "0fd1e8e0",
   "metadata": {
    "papermill": {
     "duration": 0.061637,
     "end_time": "2024-05-18T08:10:52.162941",
     "exception": false,
     "start_time": "2024-05-18T08:10:52.101304",
     "status": "completed"
    },
    "tags": []
   },
   "outputs": [],
   "source": []
  },
  {
   "cell_type": "code",
   "execution_count": null,
   "id": "5585c093",
   "metadata": {
    "papermill": {
     "duration": 0.061914,
     "end_time": "2024-05-18T08:10:52.287434",
     "exception": false,
     "start_time": "2024-05-18T08:10:52.225520",
     "status": "completed"
    },
    "tags": []
   },
   "outputs": [],
   "source": []
  },
  {
   "cell_type": "code",
   "execution_count": null,
   "id": "b62ac28f",
   "metadata": {
    "papermill": {
     "duration": 0.062902,
     "end_time": "2024-05-18T08:10:52.413111",
     "exception": false,
     "start_time": "2024-05-18T08:10:52.350209",
     "status": "completed"
    },
    "tags": []
   },
   "outputs": [],
   "source": []
  },
  {
   "cell_type": "markdown",
   "id": "1319a5a1",
   "metadata": {
    "papermill": {
     "duration": 0.061307,
     "end_time": "2024-05-18T08:10:52.539302",
     "exception": false,
     "start_time": "2024-05-18T08:10:52.477995",
     "status": "completed"
    },
    "tags": []
   },
   "source": [
    "### verification_status, application_type,initial_list_status,purpose \n",
    "**TASK: Convert these columns: ['verification_status', 'application_type','initial_list_status','purpose'] into dummy variables and concatenate them with the original dataframe. Remember to set drop_first=True and to drop the original columns.**"
   ]
  },
  {
   "cell_type": "code",
   "execution_count": 51,
   "id": "8b63eab1",
   "metadata": {
    "execution": {
     "iopub.execute_input": "2024-05-18T08:10:52.681220Z",
     "iopub.status.busy": "2024-05-18T08:10:52.680265Z",
     "iopub.status.idle": "2024-05-18T08:10:52.686533Z",
     "shell.execute_reply": "2024-05-18T08:10:52.685013Z"
    },
    "papermill": {
     "duration": 0.08873,
     "end_time": "2024-05-18T08:10:52.689669",
     "exception": false,
     "start_time": "2024-05-18T08:10:52.600939",
     "status": "completed"
    },
    "tags": []
   },
   "outputs": [],
   "source": [
    "# CODE HERE"
   ]
  },
  {
   "cell_type": "code",
   "execution_count": null,
   "id": "f50d06f3",
   "metadata": {
    "papermill": {
     "duration": 0.063362,
     "end_time": "2024-05-18T08:10:52.827809",
     "exception": false,
     "start_time": "2024-05-18T08:10:52.764447",
     "status": "completed"
    },
    "tags": []
   },
   "outputs": [],
   "source": []
  },
  {
   "cell_type": "code",
   "execution_count": null,
   "id": "ae8a329a",
   "metadata": {
    "papermill": {
     "duration": 0.0644,
     "end_time": "2024-05-18T08:10:52.959227",
     "exception": false,
     "start_time": "2024-05-18T08:10:52.894827",
     "status": "completed"
    },
    "tags": []
   },
   "outputs": [],
   "source": []
  },
  {
   "cell_type": "markdown",
   "id": "62597593",
   "metadata": {
    "papermill": {
     "duration": 0.064008,
     "end_time": "2024-05-18T08:10:53.087417",
     "exception": false,
     "start_time": "2024-05-18T08:10:53.023409",
     "status": "completed"
    },
    "tags": []
   },
   "source": [
    "### home_ownership\n",
    "**TASK:Review the value_counts for the home_ownership column.**"
   ]
  },
  {
   "cell_type": "code",
   "execution_count": 52,
   "id": "908d84eb",
   "metadata": {
    "execution": {
     "iopub.execute_input": "2024-05-18T08:10:53.218588Z",
     "iopub.status.busy": "2024-05-18T08:10:53.217867Z",
     "iopub.status.idle": "2024-05-18T08:10:53.222405Z",
     "shell.execute_reply": "2024-05-18T08:10:53.221357Z"
    },
    "papermill": {
     "duration": 0.072997,
     "end_time": "2024-05-18T08:10:53.224768",
     "exception": false,
     "start_time": "2024-05-18T08:10:53.151771",
     "status": "completed"
    },
    "tags": []
   },
   "outputs": [],
   "source": [
    "#CODE HERE"
   ]
  },
  {
   "cell_type": "code",
   "execution_count": null,
   "id": "5516a0f4",
   "metadata": {
    "papermill": {
     "duration": 0.064025,
     "end_time": "2024-05-18T08:10:53.359996",
     "exception": false,
     "start_time": "2024-05-18T08:10:53.295971",
     "status": "completed"
    },
    "tags": []
   },
   "outputs": [],
   "source": []
  },
  {
   "cell_type": "markdown",
   "id": "75a06b65",
   "metadata": {
    "papermill": {
     "duration": 0.063042,
     "end_time": "2024-05-18T08:10:53.487321",
     "exception": false,
     "start_time": "2024-05-18T08:10:53.424279",
     "status": "completed"
    },
    "tags": []
   },
   "source": [
    "**TASK: Convert these to dummy variables, but [replace](https://pandas.pydata.org/pandas-docs/stable/reference/api/pandas.DataFrame.replace.html) NONE and ANY with OTHER, so that we end up with just 4 categories, MORTGAGE, RENT, OWN, OTHER. Then concatenate them with the original dataframe. Remember to set drop_first=True and to drop the original columns.**"
   ]
  },
  {
   "cell_type": "code",
   "execution_count": 53,
   "id": "82f4d649",
   "metadata": {
    "execution": {
     "iopub.execute_input": "2024-05-18T08:10:53.616663Z",
     "iopub.status.busy": "2024-05-18T08:10:53.615678Z",
     "iopub.status.idle": "2024-05-18T08:10:53.620113Z",
     "shell.execute_reply": "2024-05-18T08:10:53.619263Z"
    },
    "papermill": {
     "duration": 0.072033,
     "end_time": "2024-05-18T08:10:53.622728",
     "exception": false,
     "start_time": "2024-05-18T08:10:53.550695",
     "status": "completed"
    },
    "tags": []
   },
   "outputs": [],
   "source": [
    "#CODE HERE"
   ]
  },
  {
   "cell_type": "code",
   "execution_count": null,
   "id": "54a45eb4",
   "metadata": {
    "papermill": {
     "duration": 0.063348,
     "end_time": "2024-05-18T08:10:53.750977",
     "exception": false,
     "start_time": "2024-05-18T08:10:53.687629",
     "status": "completed"
    },
    "tags": []
   },
   "outputs": [],
   "source": []
  },
  {
   "cell_type": "markdown",
   "id": "aac97efa",
   "metadata": {
    "papermill": {
     "duration": 0.061009,
     "end_time": "2024-05-18T08:10:53.928479",
     "exception": false,
     "start_time": "2024-05-18T08:10:53.867470",
     "status": "completed"
    },
    "tags": []
   },
   "source": [
    "### address\n",
    "**TASK: Let's feature engineer a zip code column from the address in the data set. Create a column called 'zip_code' that extracts the zip code from the address column.**"
   ]
  },
  {
   "cell_type": "code",
   "execution_count": 54,
   "id": "0bf9bc5e",
   "metadata": {
    "execution": {
     "iopub.execute_input": "2024-05-18T08:10:54.054268Z",
     "iopub.status.busy": "2024-05-18T08:10:54.053534Z",
     "iopub.status.idle": "2024-05-18T08:10:54.057853Z",
     "shell.execute_reply": "2024-05-18T08:10:54.057037Z"
    },
    "papermill": {
     "duration": 0.069594,
     "end_time": "2024-05-18T08:10:54.059935",
     "exception": false,
     "start_time": "2024-05-18T08:10:53.990341",
     "status": "completed"
    },
    "tags": []
   },
   "outputs": [],
   "source": [
    "#CODE HERE"
   ]
  },
  {
   "cell_type": "code",
   "execution_count": null,
   "id": "b61c4a18",
   "metadata": {
    "papermill": {
     "duration": 0.061807,
     "end_time": "2024-05-18T08:10:54.184108",
     "exception": false,
     "start_time": "2024-05-18T08:10:54.122301",
     "status": "completed"
    },
    "tags": []
   },
   "outputs": [],
   "source": []
  },
  {
   "cell_type": "markdown",
   "id": "a98ad653",
   "metadata": {
    "papermill": {
     "duration": 0.061526,
     "end_time": "2024-05-18T08:10:54.307933",
     "exception": false,
     "start_time": "2024-05-18T08:10:54.246407",
     "status": "completed"
    },
    "tags": []
   },
   "source": [
    "**TASK: Now make this zip_code column into dummy variables using pandas. Concatenate the result and drop the original zip_code column along with dropping the address column.**"
   ]
  },
  {
   "cell_type": "code",
   "execution_count": null,
   "id": "ed7d9009",
   "metadata": {
    "papermill": {
     "duration": 0.06188,
     "end_time": "2024-05-18T08:10:54.433300",
     "exception": false,
     "start_time": "2024-05-18T08:10:54.371420",
     "status": "completed"
    },
    "tags": []
   },
   "outputs": [],
   "source": []
  },
  {
   "cell_type": "code",
   "execution_count": null,
   "id": "3c63b97c",
   "metadata": {
    "papermill": {
     "duration": 0.061115,
     "end_time": "2024-05-18T08:10:54.556128",
     "exception": false,
     "start_time": "2024-05-18T08:10:54.495013",
     "status": "completed"
    },
    "tags": []
   },
   "outputs": [],
   "source": []
  },
  {
   "cell_type": "markdown",
   "id": "ef9914dd",
   "metadata": {
    "papermill": {
     "duration": 0.061361,
     "end_time": "2024-05-18T08:10:54.679316",
     "exception": false,
     "start_time": "2024-05-18T08:10:54.617955",
     "status": "completed"
    },
    "tags": []
   },
   "source": [
    "### issue_d \n",
    "\n",
    "**TASK: This would be data leakage, we wouldn't know beforehand whether or not a loan would be issued when using our model, so in theory we wouldn't have an issue_date, drop this feature.**"
   ]
  },
  {
   "cell_type": "code",
   "execution_count": 55,
   "id": "50d2c173",
   "metadata": {
    "execution": {
     "iopub.execute_input": "2024-05-18T08:10:54.807233Z",
     "iopub.status.busy": "2024-05-18T08:10:54.806482Z",
     "iopub.status.idle": "2024-05-18T08:10:54.811479Z",
     "shell.execute_reply": "2024-05-18T08:10:54.810054Z"
    },
    "papermill": {
     "duration": 0.070813,
     "end_time": "2024-05-18T08:10:54.813761",
     "exception": false,
     "start_time": "2024-05-18T08:10:54.742948",
     "status": "completed"
    },
    "tags": []
   },
   "outputs": [],
   "source": [
    "#CODE HERE"
   ]
  },
  {
   "cell_type": "code",
   "execution_count": null,
   "id": "ad79a618",
   "metadata": {
    "papermill": {
     "duration": 0.061871,
     "end_time": "2024-05-18T08:10:54.938578",
     "exception": false,
     "start_time": "2024-05-18T08:10:54.876707",
     "status": "completed"
    },
    "tags": []
   },
   "outputs": [],
   "source": []
  },
  {
   "cell_type": "markdown",
   "id": "0d8ada3d",
   "metadata": {
    "papermill": {
     "duration": 0.061879,
     "end_time": "2024-05-18T08:10:55.061586",
     "exception": false,
     "start_time": "2024-05-18T08:10:54.999707",
     "status": "completed"
    },
    "tags": []
   },
   "source": [
    "### earliest_cr_line\n",
    "**TASK: This appears to be a historical time stamp feature. Extract the year from this feature using a .apply function, then convert it to a numeric feature. Set this new data to a feature column called 'earliest_cr_year'.Then drop the earliest_cr_line feature.**"
   ]
  },
  {
   "cell_type": "code",
   "execution_count": 56,
   "id": "3669ad4a",
   "metadata": {
    "execution": {
     "iopub.execute_input": "2024-05-18T08:10:55.187908Z",
     "iopub.status.busy": "2024-05-18T08:10:55.187484Z",
     "iopub.status.idle": "2024-05-18T08:10:55.191799Z",
     "shell.execute_reply": "2024-05-18T08:10:55.190948Z"
    },
    "papermill": {
     "duration": 0.069868,
     "end_time": "2024-05-18T08:10:55.194145",
     "exception": false,
     "start_time": "2024-05-18T08:10:55.124277",
     "status": "completed"
    },
    "tags": []
   },
   "outputs": [],
   "source": [
    "#CODE HERE"
   ]
  },
  {
   "cell_type": "code",
   "execution_count": null,
   "id": "753f16de",
   "metadata": {
    "papermill": {
     "duration": 0.061541,
     "end_time": "2024-05-18T08:10:55.317849",
     "exception": false,
     "start_time": "2024-05-18T08:10:55.256308",
     "status": "completed"
    },
    "tags": []
   },
   "outputs": [],
   "source": []
  },
  {
   "cell_type": "code",
   "execution_count": null,
   "id": "1c1aeac7",
   "metadata": {
    "papermill": {
     "duration": 0.063924,
     "end_time": "2024-05-18T08:10:55.445397",
     "exception": false,
     "start_time": "2024-05-18T08:10:55.381473",
     "status": "completed"
    },
    "tags": []
   },
   "outputs": [],
   "source": []
  },
  {
   "cell_type": "markdown",
   "id": "0a882256",
   "metadata": {
    "papermill": {
     "duration": 0.063168,
     "end_time": "2024-05-18T08:10:55.572825",
     "exception": false,
     "start_time": "2024-05-18T08:10:55.509657",
     "status": "completed"
    },
    "tags": []
   },
   "source": [
    "## Train Test Split"
   ]
  },
  {
   "cell_type": "markdown",
   "id": "78666bd4",
   "metadata": {
    "papermill": {
     "duration": 0.063597,
     "end_time": "2024-05-18T08:10:55.703380",
     "exception": false,
     "start_time": "2024-05-18T08:10:55.639783",
     "status": "completed"
    },
    "tags": []
   },
   "source": [
    "**TASK: Import train_test_split from sklearn.**"
   ]
  },
  {
   "cell_type": "code",
   "execution_count": null,
   "id": "b10392d8",
   "metadata": {
    "papermill": {
     "duration": 0.063354,
     "end_time": "2024-05-18T08:10:55.831558",
     "exception": false,
     "start_time": "2024-05-18T08:10:55.768204",
     "status": "completed"
    },
    "tags": []
   },
   "outputs": [],
   "source": []
  },
  {
   "cell_type": "markdown",
   "id": "797a8231",
   "metadata": {
    "papermill": {
     "duration": 0.068801,
     "end_time": "2024-05-18T08:10:55.963183",
     "exception": false,
     "start_time": "2024-05-18T08:10:55.894382",
     "status": "completed"
    },
    "tags": []
   },
   "source": [
    "**TASK: drop the load_status column we created earlier, since its a duplicate of the loan_repaid column. We'll use the loan_repaid column since its already in 0s and 1s.**"
   ]
  },
  {
   "cell_type": "code",
   "execution_count": 57,
   "id": "692b63fb",
   "metadata": {
    "execution": {
     "iopub.execute_input": "2024-05-18T08:10:56.091999Z",
     "iopub.status.busy": "2024-05-18T08:10:56.091629Z",
     "iopub.status.idle": "2024-05-18T08:10:56.095489Z",
     "shell.execute_reply": "2024-05-18T08:10:56.094647Z"
    },
    "papermill": {
     "duration": 0.069484,
     "end_time": "2024-05-18T08:10:56.097628",
     "exception": false,
     "start_time": "2024-05-18T08:10:56.028144",
     "status": "completed"
    },
    "tags": []
   },
   "outputs": [],
   "source": [
    "# CODE HERE"
   ]
  },
  {
   "cell_type": "code",
   "execution_count": null,
   "id": "7d3f3c20",
   "metadata": {
    "papermill": {
     "duration": 0.064544,
     "end_time": "2024-05-18T08:10:56.227274",
     "exception": false,
     "start_time": "2024-05-18T08:10:56.162730",
     "status": "completed"
    },
    "tags": []
   },
   "outputs": [],
   "source": []
  },
  {
   "cell_type": "markdown",
   "id": "37c3f376",
   "metadata": {
    "papermill": {
     "duration": 0.063329,
     "end_time": "2024-05-18T08:10:56.354514",
     "exception": false,
     "start_time": "2024-05-18T08:10:56.291185",
     "status": "completed"
    },
    "tags": []
   },
   "source": [
    "**TASK: Set X and y variables to the .values of the features and label.**"
   ]
  },
  {
   "cell_type": "code",
   "execution_count": 58,
   "id": "8ca92efc",
   "metadata": {
    "execution": {
     "iopub.execute_input": "2024-05-18T08:10:56.485564Z",
     "iopub.status.busy": "2024-05-18T08:10:56.484823Z",
     "iopub.status.idle": "2024-05-18T08:10:56.489353Z",
     "shell.execute_reply": "2024-05-18T08:10:56.488253Z"
    },
    "papermill": {
     "duration": 0.072881,
     "end_time": "2024-05-18T08:10:56.491568",
     "exception": false,
     "start_time": "2024-05-18T08:10:56.418687",
     "status": "completed"
    },
    "tags": []
   },
   "outputs": [],
   "source": [
    "#CODE HERE"
   ]
  },
  {
   "cell_type": "code",
   "execution_count": null,
   "id": "ec7ff927",
   "metadata": {
    "papermill": {
     "duration": 0.063385,
     "end_time": "2024-05-18T08:10:56.618511",
     "exception": false,
     "start_time": "2024-05-18T08:10:56.555126",
     "status": "completed"
    },
    "tags": []
   },
   "outputs": [],
   "source": []
  },
  {
   "cell_type": "markdown",
   "id": "be92c8be",
   "metadata": {
    "papermill": {
     "duration": 0.062985,
     "end_time": "2024-05-18T08:10:56.745412",
     "exception": false,
     "start_time": "2024-05-18T08:10:56.682427",
     "status": "completed"
    },
    "tags": []
   },
   "source": [
    "----\n",
    "----\n",
    "\n",
    "# OPTIONAL\n",
    "\n",
    "## Grabbing a Sample for Training Time\n",
    "\n",
    "### OPTIONAL: Use .sample() to grab a sample of the 490k+ entries to save time on training. Highly recommended for lower RAM computers or if you are not using GPU.\n",
    "\n",
    "----\n",
    "----"
   ]
  },
  {
   "cell_type": "code",
   "execution_count": 59,
   "id": "845d77f9",
   "metadata": {
    "execution": {
     "iopub.execute_input": "2024-05-18T08:10:56.872163Z",
     "iopub.status.busy": "2024-05-18T08:10:56.871371Z",
     "iopub.status.idle": "2024-05-18T08:10:56.876842Z",
     "shell.execute_reply": "2024-05-18T08:10:56.876096Z"
    },
    "papermill": {
     "duration": 0.070462,
     "end_time": "2024-05-18T08:10:56.879211",
     "exception": false,
     "start_time": "2024-05-18T08:10:56.808749",
     "status": "completed"
    },
    "tags": []
   },
   "outputs": [
    {
     "name": "stdout",
     "output_type": "stream",
     "text": [
      "396030\n"
     ]
    }
   ],
   "source": [
    "# df = df.sample(frac=0.1,random_state=101)\n",
    "print(len(df))"
   ]
  },
  {
   "cell_type": "markdown",
   "id": "fa510b62",
   "metadata": {
    "papermill": {
     "duration": 0.064654,
     "end_time": "2024-05-18T08:10:57.009545",
     "exception": false,
     "start_time": "2024-05-18T08:10:56.944891",
     "status": "completed"
    },
    "tags": []
   },
   "source": [
    "**TASK: Perform a train/test split with test_size=0.2 and a random_state of 101.**"
   ]
  },
  {
   "cell_type": "code",
   "execution_count": 60,
   "id": "d363ce79",
   "metadata": {
    "execution": {
     "iopub.execute_input": "2024-05-18T08:10:57.144368Z",
     "iopub.status.busy": "2024-05-18T08:10:57.143139Z",
     "iopub.status.idle": "2024-05-18T08:10:57.148111Z",
     "shell.execute_reply": "2024-05-18T08:10:57.147289Z"
    },
    "papermill": {
     "duration": 0.075602,
     "end_time": "2024-05-18T08:10:57.150302",
     "exception": false,
     "start_time": "2024-05-18T08:10:57.074700",
     "status": "completed"
    },
    "tags": []
   },
   "outputs": [],
   "source": [
    "#CODE HERE"
   ]
  },
  {
   "cell_type": "code",
   "execution_count": null,
   "id": "a5902636",
   "metadata": {
    "papermill": {
     "duration": 0.064423,
     "end_time": "2024-05-18T08:10:57.279992",
     "exception": false,
     "start_time": "2024-05-18T08:10:57.215569",
     "status": "completed"
    },
    "tags": []
   },
   "outputs": [],
   "source": []
  },
  {
   "cell_type": "markdown",
   "id": "c580e155",
   "metadata": {
    "papermill": {
     "duration": 0.065838,
     "end_time": "2024-05-18T08:10:57.410302",
     "exception": false,
     "start_time": "2024-05-18T08:10:57.344464",
     "status": "completed"
    },
    "tags": []
   },
   "source": [
    "## Normalizing the Data\n",
    "\n",
    "**TASK: Use a MinMaxScaler to normalize the feature data X_train and X_test. Recall we don't want data leakge from the test set so we only fit on the X_train data.**"
   ]
  },
  {
   "cell_type": "code",
   "execution_count": 61,
   "id": "75b2b340",
   "metadata": {
    "execution": {
     "iopub.execute_input": "2024-05-18T08:10:57.542624Z",
     "iopub.status.busy": "2024-05-18T08:10:57.541907Z",
     "iopub.status.idle": "2024-05-18T08:10:57.546580Z",
     "shell.execute_reply": "2024-05-18T08:10:57.545828Z"
    },
    "papermill": {
     "duration": 0.072669,
     "end_time": "2024-05-18T08:10:57.548751",
     "exception": false,
     "start_time": "2024-05-18T08:10:57.476082",
     "status": "completed"
    },
    "tags": []
   },
   "outputs": [],
   "source": [
    "# CODE HERE"
   ]
  },
  {
   "cell_type": "code",
   "execution_count": null,
   "id": "5d272357",
   "metadata": {
    "papermill": {
     "duration": 0.065285,
     "end_time": "2024-05-18T08:10:57.678668",
     "exception": false,
     "start_time": "2024-05-18T08:10:57.613383",
     "status": "completed"
    },
    "tags": []
   },
   "outputs": [],
   "source": []
  },
  {
   "cell_type": "code",
   "execution_count": null,
   "id": "78ce9e40",
   "metadata": {
    "papermill": {
     "duration": 0.063916,
     "end_time": "2024-05-18T08:10:57.806162",
     "exception": false,
     "start_time": "2024-05-18T08:10:57.742246",
     "status": "completed"
    },
    "tags": []
   },
   "outputs": [],
   "source": []
  },
  {
   "cell_type": "code",
   "execution_count": null,
   "id": "bc4f5b24",
   "metadata": {
    "papermill": {
     "duration": 0.063905,
     "end_time": "2024-05-18T08:10:57.934496",
     "exception": false,
     "start_time": "2024-05-18T08:10:57.870591",
     "status": "completed"
    },
    "tags": []
   },
   "outputs": [],
   "source": []
  },
  {
   "cell_type": "code",
   "execution_count": null,
   "id": "aef4aec4",
   "metadata": {
    "papermill": {
     "duration": 0.064232,
     "end_time": "2024-05-18T08:10:58.062319",
     "exception": false,
     "start_time": "2024-05-18T08:10:57.998087",
     "status": "completed"
    },
    "tags": []
   },
   "outputs": [],
   "source": []
  },
  {
   "cell_type": "markdown",
   "id": "702a47d4",
   "metadata": {
    "papermill": {
     "duration": 0.064481,
     "end_time": "2024-05-18T08:10:58.191133",
     "exception": false,
     "start_time": "2024-05-18T08:10:58.126652",
     "status": "completed"
    },
    "tags": []
   },
   "source": [
    "# Creating the Model\n",
    "\n",
    "**TASK: Run the cell below to import the necessary Keras functions.**"
   ]
  },
  {
   "cell_type": "code",
   "execution_count": 62,
   "id": "b0739818",
   "metadata": {
    "execution": {
     "iopub.execute_input": "2024-05-18T08:10:58.322434Z",
     "iopub.status.busy": "2024-05-18T08:10:58.321620Z",
     "iopub.status.idle": "2024-05-18T08:11:11.571197Z",
     "shell.execute_reply": "2024-05-18T08:11:11.569951Z"
    },
    "papermill": {
     "duration": 13.317367,
     "end_time": "2024-05-18T08:11:11.574034",
     "exception": false,
     "start_time": "2024-05-18T08:10:58.256667",
     "status": "completed"
    },
    "tags": []
   },
   "outputs": [
    {
     "name": "stderr",
     "output_type": "stream",
     "text": [
      "2024-05-18 08:11:00.506582: E external/local_xla/xla/stream_executor/cuda/cuda_dnn.cc:9261] Unable to register cuDNN factory: Attempting to register factory for plugin cuDNN when one has already been registered\n",
      "2024-05-18 08:11:00.506730: E external/local_xla/xla/stream_executor/cuda/cuda_fft.cc:607] Unable to register cuFFT factory: Attempting to register factory for plugin cuFFT when one has already been registered\n",
      "2024-05-18 08:11:00.643573: E external/local_xla/xla/stream_executor/cuda/cuda_blas.cc:1515] Unable to register cuBLAS factory: Attempting to register factory for plugin cuBLAS when one has already been registered\n"
     ]
    }
   ],
   "source": [
    "import tensorflow as tf\n",
    "from tensorflow.keras.models import Sequential\n",
    "from tensorflow.keras.layers import Dense,Dropout"
   ]
  },
  {
   "cell_type": "markdown",
   "id": "49ef01a3",
   "metadata": {
    "papermill": {
     "duration": 0.063668,
     "end_time": "2024-05-18T08:11:11.702525",
     "exception": false,
     "start_time": "2024-05-18T08:11:11.638857",
     "status": "completed"
    },
    "tags": []
   },
   "source": [
    "**TASK: Build a sequential model to will be trained on the data. You have unlimited options here, but here is what the solution uses: a model that goes 78 --> 39 --> 19--> 1 output neuron. OPTIONAL: Explore adding [Dropout layers](https://keras.io/layers/core/) [1](https://en.wikipedia.org/wiki/Dropout_(neural_networks)) [2](https://towardsdatascience.com/machine-learning-part-20-dropout-keras-layers-explained-8c9f6dc4c9ab)**"
   ]
  },
  {
   "cell_type": "code",
   "execution_count": 63,
   "id": "186b999c",
   "metadata": {
    "execution": {
     "iopub.execute_input": "2024-05-18T08:11:11.832257Z",
     "iopub.status.busy": "2024-05-18T08:11:11.831101Z",
     "iopub.status.idle": "2024-05-18T08:11:11.840970Z",
     "shell.execute_reply": "2024-05-18T08:11:11.840112Z"
    },
    "papermill": {
     "duration": 0.076752,
     "end_time": "2024-05-18T08:11:11.843083",
     "exception": false,
     "start_time": "2024-05-18T08:11:11.766331",
     "status": "completed"
    },
    "tags": []
   },
   "outputs": [],
   "source": [
    "# CODE HERE\n",
    "model = Sequential()\n",
    "\n",
    "# Choose whatever number of layers/neurons you want.\n",
    "\n",
    "# https://stats.stackexchange.com/questions/181/how-to-choose-the-number-of-hidden-layers-and-nodes-in-a-feedforward-neural-netw\n",
    "\n",
    "# Remember to compile()"
   ]
  },
  {
   "cell_type": "code",
   "execution_count": null,
   "id": "ecdf690e",
   "metadata": {
    "papermill": {
     "duration": 0.062069,
     "end_time": "2024-05-18T08:11:11.967092",
     "exception": false,
     "start_time": "2024-05-18T08:11:11.905023",
     "status": "completed"
    },
    "tags": []
   },
   "outputs": [],
   "source": []
  },
  {
   "cell_type": "markdown",
   "id": "66ed2a16",
   "metadata": {
    "papermill": {
     "duration": 0.060889,
     "end_time": "2024-05-18T08:11:12.090340",
     "exception": false,
     "start_time": "2024-05-18T08:11:12.029451",
     "status": "completed"
    },
    "tags": []
   },
   "source": [
    "**TASK: Fit the model to the training data for at least 25 epochs. Also add in the validation data for later plotting. Optional: add in a batch_size of 256.**"
   ]
  },
  {
   "cell_type": "code",
   "execution_count": 64,
   "id": "3c2c41d1",
   "metadata": {
    "execution": {
     "iopub.execute_input": "2024-05-18T08:11:12.222333Z",
     "iopub.status.busy": "2024-05-18T08:11:12.220482Z",
     "iopub.status.idle": "2024-05-18T08:11:12.226736Z",
     "shell.execute_reply": "2024-05-18T08:11:12.225986Z"
    },
    "papermill": {
     "duration": 0.075397,
     "end_time": "2024-05-18T08:11:12.229043",
     "exception": false,
     "start_time": "2024-05-18T08:11:12.153646",
     "status": "completed"
    },
    "tags": []
   },
   "outputs": [],
   "source": [
    "# CODE HERE"
   ]
  },
  {
   "cell_type": "code",
   "execution_count": null,
   "id": "f0d1eb1e",
   "metadata": {
    "papermill": {
     "duration": 0.064034,
     "end_time": "2024-05-18T08:11:12.357174",
     "exception": false,
     "start_time": "2024-05-18T08:11:12.293140",
     "status": "completed"
    },
    "tags": []
   },
   "outputs": [],
   "source": []
  },
  {
   "cell_type": "markdown",
   "id": "1e54b54e",
   "metadata": {
    "papermill": {
     "duration": 0.069711,
     "end_time": "2024-05-18T08:11:12.492238",
     "exception": false,
     "start_time": "2024-05-18T08:11:12.422527",
     "status": "completed"
    },
    "tags": []
   },
   "source": [
    "**TASK: OPTIONAL: Save your model.**"
   ]
  },
  {
   "cell_type": "code",
   "execution_count": 65,
   "id": "ca400fb0",
   "metadata": {
    "execution": {
     "iopub.execute_input": "2024-05-18T08:11:12.624455Z",
     "iopub.status.busy": "2024-05-18T08:11:12.624084Z",
     "iopub.status.idle": "2024-05-18T08:11:12.629516Z",
     "shell.execute_reply": "2024-05-18T08:11:12.627569Z"
    },
    "papermill": {
     "duration": 0.074252,
     "end_time": "2024-05-18T08:11:12.632342",
     "exception": false,
     "start_time": "2024-05-18T08:11:12.558090",
     "status": "completed"
    },
    "tags": []
   },
   "outputs": [],
   "source": [
    "# CODE HERE"
   ]
  },
  {
   "cell_type": "code",
   "execution_count": null,
   "id": "5ee03737",
   "metadata": {
    "papermill": {
     "duration": 0.067508,
     "end_time": "2024-05-18T08:11:12.791096",
     "exception": false,
     "start_time": "2024-05-18T08:11:12.723588",
     "status": "completed"
    },
    "tags": []
   },
   "outputs": [],
   "source": []
  },
  {
   "cell_type": "code",
   "execution_count": null,
   "id": "ec630538",
   "metadata": {
    "papermill": {
     "duration": 0.064647,
     "end_time": "2024-05-18T08:11:12.921281",
     "exception": false,
     "start_time": "2024-05-18T08:11:12.856634",
     "status": "completed"
    },
    "tags": []
   },
   "outputs": [],
   "source": []
  },
  {
   "cell_type": "markdown",
   "id": "5d923cd7",
   "metadata": {
    "papermill": {
     "duration": 0.065055,
     "end_time": "2024-05-18T08:11:13.051108",
     "exception": false,
     "start_time": "2024-05-18T08:11:12.986053",
     "status": "completed"
    },
    "tags": []
   },
   "source": [
    "# Section 3: Evaluating Model Performance.\n",
    "\n",
    "**TASK: Plot out the validation loss versus the training loss.**"
   ]
  },
  {
   "cell_type": "code",
   "execution_count": 66,
   "id": "aea6147b",
   "metadata": {
    "execution": {
     "iopub.execute_input": "2024-05-18T08:11:13.183701Z",
     "iopub.status.busy": "2024-05-18T08:11:13.182923Z",
     "iopub.status.idle": "2024-05-18T08:11:13.187408Z",
     "shell.execute_reply": "2024-05-18T08:11:13.186259Z"
    },
    "papermill": {
     "duration": 0.073454,
     "end_time": "2024-05-18T08:11:13.190251",
     "exception": false,
     "start_time": "2024-05-18T08:11:13.116797",
     "status": "completed"
    },
    "tags": []
   },
   "outputs": [],
   "source": [
    "# CODE HERE"
   ]
  },
  {
   "cell_type": "code",
   "execution_count": null,
   "id": "27441bf3",
   "metadata": {
    "papermill": {
     "duration": 0.065426,
     "end_time": "2024-05-18T08:11:13.334504",
     "exception": false,
     "start_time": "2024-05-18T08:11:13.269078",
     "status": "completed"
    },
    "tags": []
   },
   "outputs": [],
   "source": []
  },
  {
   "cell_type": "code",
   "execution_count": null,
   "id": "745defec",
   "metadata": {
    "papermill": {
     "duration": 0.07819,
     "end_time": "2024-05-18T08:11:13.477162",
     "exception": false,
     "start_time": "2024-05-18T08:11:13.398972",
     "status": "completed"
    },
    "tags": []
   },
   "outputs": [],
   "source": []
  },
  {
   "cell_type": "markdown",
   "id": "e868b6a9",
   "metadata": {
    "papermill": {
     "duration": 0.076303,
     "end_time": "2024-05-18T08:11:13.619605",
     "exception": false,
     "start_time": "2024-05-18T08:11:13.543302",
     "status": "completed"
    },
    "tags": []
   },
   "source": [
    "**TASK: Create predictions from the X_test set and display a classification report and confusion matrix for the X_test set.**"
   ]
  },
  {
   "cell_type": "code",
   "execution_count": 67,
   "id": "6f2f3d6e",
   "metadata": {
    "execution": {
     "iopub.execute_input": "2024-05-18T08:11:13.755188Z",
     "iopub.status.busy": "2024-05-18T08:11:13.753771Z",
     "iopub.status.idle": "2024-05-18T08:11:13.759497Z",
     "shell.execute_reply": "2024-05-18T08:11:13.758366Z"
    },
    "papermill": {
     "duration": 0.079714,
     "end_time": "2024-05-18T08:11:13.761812",
     "exception": false,
     "start_time": "2024-05-18T08:11:13.682098",
     "status": "completed"
    },
    "tags": []
   },
   "outputs": [],
   "source": [
    "# CODE HERE"
   ]
  },
  {
   "cell_type": "code",
   "execution_count": null,
   "id": "617747c1",
   "metadata": {
    "papermill": {
     "duration": 0.061598,
     "end_time": "2024-05-18T08:11:13.886085",
     "exception": false,
     "start_time": "2024-05-18T08:11:13.824487",
     "status": "completed"
    },
    "tags": []
   },
   "outputs": [],
   "source": []
  },
  {
   "cell_type": "code",
   "execution_count": null,
   "id": "72e4e68d",
   "metadata": {
    "papermill": {
     "duration": 0.062688,
     "end_time": "2024-05-18T08:11:14.021790",
     "exception": false,
     "start_time": "2024-05-18T08:11:13.959102",
     "status": "completed"
    },
    "tags": []
   },
   "outputs": [],
   "source": []
  },
  {
   "cell_type": "code",
   "execution_count": null,
   "id": "577926ee",
   "metadata": {
    "papermill": {
     "duration": 0.063092,
     "end_time": "2024-05-18T08:11:14.147479",
     "exception": false,
     "start_time": "2024-05-18T08:11:14.084387",
     "status": "completed"
    },
    "tags": []
   },
   "outputs": [],
   "source": []
  },
  {
   "cell_type": "code",
   "execution_count": null,
   "id": "4fcf1335",
   "metadata": {
    "papermill": {
     "duration": 0.06374,
     "end_time": "2024-05-18T08:11:14.275569",
     "exception": false,
     "start_time": "2024-05-18T08:11:14.211829",
     "status": "completed"
    },
    "tags": []
   },
   "outputs": [],
   "source": []
  },
  {
   "cell_type": "markdown",
   "id": "7dec48b2",
   "metadata": {
    "papermill": {
     "duration": 0.065016,
     "end_time": "2024-05-18T08:11:14.405126",
     "exception": false,
     "start_time": "2024-05-18T08:11:14.340110",
     "status": "completed"
    },
    "tags": []
   },
   "source": [
    "**TASK: Given the customer below, would you offer this person a loan?**"
   ]
  },
  {
   "cell_type": "code",
   "execution_count": 68,
   "id": "47c7ee20",
   "metadata": {
    "execution": {
     "iopub.execute_input": "2024-05-18T08:11:14.537382Z",
     "iopub.status.busy": "2024-05-18T08:11:14.536460Z",
     "iopub.status.idle": "2024-05-18T08:11:14.672363Z",
     "shell.execute_reply": "2024-05-18T08:11:14.670945Z"
    },
    "papermill": {
     "duration": 0.20482,
     "end_time": "2024-05-18T08:11:14.674783",
     "exception": false,
     "start_time": "2024-05-18T08:11:14.469963",
     "status": "completed"
    },
    "tags": []
   },
   "outputs": [
    {
     "data": {
      "text/plain": [
       "loan_amnt                                    24000.0\n",
       "term                                              60\n",
       "int_rate                                       13.11\n",
       "installment                                   547.43\n",
       "grade                                              B\n",
       "sub_grade                                         B4\n",
       "emp_title                   City of West Springfield\n",
       "emp_length                                 10+ years\n",
       "home_ownership                              MORTGAGE\n",
       "annual_inc                                   85000.0\n",
       "verification_status                  Source Verified\n",
       "issue_d                                     Jan-2013\n",
       "loan_status                               Fully Paid\n",
       "purpose                                  credit_card\n",
       "title                                           Debt\n",
       "dti                                            10.98\n",
       "earliest_cr_line                            Oct-1991\n",
       "open_acc                                         6.0\n",
       "pub_rec                                          0.0\n",
       "revol_bal                                    35464.0\n",
       "revol_util                                      66.8\n",
       "total_acc                                       29.0\n",
       "initial_list_status                                f\n",
       "application_type                          INDIVIDUAL\n",
       "mort_acc                                         8.0\n",
       "pub_rec_bankruptcies                             0.0\n",
       "address                 USS Sheppard\\r\\nFPO AP 05113\n",
       "Name: 304691, dtype: object"
      ]
     },
     "execution_count": 68,
     "metadata": {},
     "output_type": "execute_result"
    }
   ],
   "source": [
    "import random\n",
    "random.seed(101)\n",
    "random_ind = random.randint(0,len(df))\n",
    "\n",
    "new_customer = df.drop('loan_repaid',axis=1).iloc[random_ind]\n",
    "new_customer"
   ]
  },
  {
   "cell_type": "code",
   "execution_count": 69,
   "id": "6b138a40",
   "metadata": {
    "execution": {
     "iopub.execute_input": "2024-05-18T08:11:14.808669Z",
     "iopub.status.busy": "2024-05-18T08:11:14.808255Z",
     "iopub.status.idle": "2024-05-18T08:11:14.812808Z",
     "shell.execute_reply": "2024-05-18T08:11:14.811543Z"
    },
    "papermill": {
     "duration": 0.073174,
     "end_time": "2024-05-18T08:11:14.815152",
     "exception": false,
     "start_time": "2024-05-18T08:11:14.741978",
     "status": "completed"
    },
    "tags": []
   },
   "outputs": [],
   "source": [
    "# CODE HERE"
   ]
  },
  {
   "cell_type": "code",
   "execution_count": null,
   "id": "aefb19bf",
   "metadata": {
    "papermill": {
     "duration": 0.064543,
     "end_time": "2024-05-18T08:11:14.943736",
     "exception": false,
     "start_time": "2024-05-18T08:11:14.879193",
     "status": "completed"
    },
    "tags": []
   },
   "outputs": [],
   "source": []
  },
  {
   "cell_type": "markdown",
   "id": "4219aef9",
   "metadata": {
    "papermill": {
     "duration": 0.063651,
     "end_time": "2024-05-18T08:11:15.072541",
     "exception": false,
     "start_time": "2024-05-18T08:11:15.008890",
     "status": "completed"
    },
    "tags": []
   },
   "source": [
    "**TASK: Now check, did this person actually end up paying back their loan?**"
   ]
  },
  {
   "cell_type": "code",
   "execution_count": 70,
   "id": "e5f21fca",
   "metadata": {
    "execution": {
     "iopub.execute_input": "2024-05-18T08:11:15.205016Z",
     "iopub.status.busy": "2024-05-18T08:11:15.204580Z",
     "iopub.status.idle": "2024-05-18T08:11:15.209573Z",
     "shell.execute_reply": "2024-05-18T08:11:15.208314Z"
    },
    "papermill": {
     "duration": 0.075087,
     "end_time": "2024-05-18T08:11:15.212146",
     "exception": false,
     "start_time": "2024-05-18T08:11:15.137059",
     "status": "completed"
    },
    "tags": []
   },
   "outputs": [],
   "source": [
    "# CODE HERE"
   ]
  },
  {
   "cell_type": "code",
   "execution_count": null,
   "id": "c9f150a9",
   "metadata": {
    "papermill": {
     "duration": 0.063835,
     "end_time": "2024-05-18T08:11:15.340319",
     "exception": false,
     "start_time": "2024-05-18T08:11:15.276484",
     "status": "completed"
    },
    "tags": []
   },
   "outputs": [],
   "source": []
  },
  {
   "cell_type": "markdown",
   "id": "eb6dee74",
   "metadata": {
    "papermill": {
     "duration": 0.064729,
     "end_time": "2024-05-18T08:11:15.469264",
     "exception": false,
     "start_time": "2024-05-18T08:11:15.404535",
     "status": "completed"
    },
    "tags": []
   },
   "source": [
    "# GREAT JOB!"
   ]
  }
 ],
 "metadata": {
  "kaggle": {
   "accelerator": "none",
   "dataSources": [
    {
     "datasetId": 5014706,
     "sourceId": 8422858,
     "sourceType": "datasetVersion"
    }
   ],
   "dockerImageVersionId": 30698,
   "isGpuEnabled": false,
   "isInternetEnabled": true,
   "language": "python",
   "sourceType": "notebook"
  },
  "kernelspec": {
   "display_name": "Python 3",
   "language": "python",
   "name": "python3"
  },
  "language_info": {
   "codemirror_mode": {
    "name": "ipython",
    "version": 3
   },
   "file_extension": ".py",
   "mimetype": "text/x-python",
   "name": "python",
   "nbconvert_exporter": "python",
   "pygments_lexer": "ipython3",
   "version": "3.10.13"
  },
  "papermill": {
   "default_parameters": {},
   "duration": 64.480181,
   "end_time": "2024-05-18T08:11:18.438091",
   "environment_variables": {},
   "exception": null,
   "input_path": "__notebook__.ipynb",
   "output_path": "__notebook__.ipynb",
   "parameters": {},
   "start_time": "2024-05-18T08:10:13.957910",
   "version": "2.5.0"
  }
 },
 "nbformat": 4,
 "nbformat_minor": 5
}
